{
 "cells": [
  {
   "cell_type": "markdown",
   "metadata": {},
   "source": [
    "# Image Classification with PyTorch"
   ]
  },
  {
   "cell_type": "markdown",
   "metadata": {},
   "source": [
    "## Data loading\n"
   ]
  },
  {
   "cell_type": "code",
   "execution_count": 1,
   "metadata": {},
   "outputs": [],
   "source": [
    "import numpy as np\n",
    "import matplotlib.pyplot as plt\n",
    "\n",
    "import torch\n",
    "import torch.nn as nn\n",
    "import torch.nn.functional as F\n",
    "import torch.optim as optim\n",
    "from torch.utils.data import DataLoader\n",
    "import torchvision\n",
    "from torchvision import datasets, transforms"
   ]
  },
  {
   "cell_type": "code",
   "execution_count": 2,
   "metadata": {},
   "outputs": [],
   "source": [
    "# torchvision contains convinience functions for popular datasets\n",
    "ds_train = datasets.MNIST('data', train=True, download=True)"
   ]
  },
  {
   "cell_type": "markdown",
   "metadata": {},
   "source": [
    "Each sample is a 28x28 image"
   ]
  },
  {
   "cell_type": "code",
   "execution_count": 3,
   "metadata": {},
   "outputs": [
    {
     "name": "stdout",
     "output_type": "stream",
     "text": [
      "(<PIL.Image.Image image mode=L size=28x28 at 0x114F38BE0>, 5)\n"
     ]
    },
    {
     "data": {
      "image/png": "[encoded data removed]",
      "text/plain": [
       "<PIL.Image.Image image mode=L size=120x120 at 0x107C80E20>"
      ]
     },
     "execution_count": 3,
     "metadata": {},
     "output_type": "execute_result"
    }
   ],
   "source": [
    "# if we index this dataset, we get a single data point: a PIL image and an Integer\n",
    "print(ds_train[0])\n",
    "ds_train[0][0].resize((120,120))"
   ]
  },
  {
   "cell_type": "markdown",
   "metadata": {},
   "source": [
    "Let's transform the data to something that our Pytorch models will understand\n",
    "for this purpose, we can supply a transform function to the datase"
   ]
  },
  {
   "cell_type": "code",
   "execution_count": 4,
   "metadata": {},
   "outputs": [],
   "source": [
    "transform = transforms.Compose([\n",
    "    transforms.ToTensor(),\n",
    "])\n",
    "ds_train = datasets.MNIST('data', train=True, download=True, transform=transform)"
   ]
  },
  {
   "cell_type": "markdown",
   "metadata": {},
   "source": [
    "The image is now a `torch.Tensor`"
   ]
  },
  {
   "cell_type": "code",
   "execution_count": 5,
   "metadata": {},
   "outputs": [
    {
     "data": {
      "text/plain": [
       "torch.Tensor"
      ]
     },
     "execution_count": 5,
     "metadata": {},
     "output_type": "execute_result"
    }
   ],
   "source": [
    "type(ds_train[0][0])"
   ]
  },
  {
   "cell_type": "markdown",
   "metadata": {},
   "source": [
    "The normalization is something you learned about in the lecture. Normalizing with $\\mu=0, \\sigma=1$ corresponds to no normalization. Let's compute the proper normalization constants!"
   ]
  },
  {
   "cell_type": "code",
   "execution_count": 6,
   "metadata": {},
   "outputs": [],
   "source": [
    "# lets get only the images \n",
    "ims_train = ds_train.data\n",
    "ims_train = ims_train.float() / 255."
   ]
  },
  {
   "cell_type": "code",
   "execution_count": 7,
   "metadata": {},
   "outputs": [
    {
     "name": "stdout",
     "output_type": "stream",
     "text": [
      "Mean: tensor(0.1307)\n",
      "Std Deviation: tensor(0.3081)\n"
     ]
    }
   ],
   "source": [
    "#########################################################################\n",
    "# TODO: calculate the mean and std of MNIST images\n",
    "# hint: to look for operations on pytorch tensor, refer to the official PyTorch docs \n",
    "# https://pytorch.org/docs/stable/\n",
    "#########################################################################\n",
    "mu = ims_train.mean(dim=(0, 1, 2))\n",
    "std = ims_train.std(dim=(0, 1, 2))\n",
    "print(\"Mean:\", mu)\n",
    "print(\"Std Deviation:\", std)"
   ]
  },
  {
   "cell_type": "markdown",
   "metadata": {},
   "source": [
    "We normalize the data as below."
   ]
  },
  {
   "cell_type": "code",
   "execution_count": 8,
   "metadata": {},
   "outputs": [],
   "source": [
    "transform = transforms.Compose([\n",
    "    transforms.ToTensor(),\n",
    "    transforms.Normalize(mu, std)\n",
    "])\n",
    "ds_train = datasets.MNIST('data', train=True, download=True, transform=transform)\n",
    "ds_test = datasets.MNIST('data', train=False, download=True, transform=transform)"
   ]
  },
  {
   "cell_type": "code",
   "execution_count": 9,
   "metadata": {},
   "outputs": [
    {
     "data": {
      "text/plain": [
       "(tensor(-0.4241), tensor(2.8215))"
      ]
     },
     "execution_count": 9,
     "metadata": {},
     "output_type": "execute_result"
    }
   ],
   "source": [
    "ds_train[0][0].min(), ds_train[0][0].max()"
   ]
  },
  {
   "cell_type": "markdown",
   "metadata": {},
   "source": [
    "Next, we want to receive mini-batches, not only single data points.\n",
    "We use PyTorch's DataLoader class. Build a dataloader with a batch size of 64 and 4 workers (number of subprocess that peform the dataloading). Important: you need to shuffle the training data, not the test data.\n",
    "\n",
    "**NOTE**: if you encounter some unexpected errors in data loading, try setting `NUM_WORKERS = 0`"
   ]
  },
  {
   "cell_type": "code",
   "execution_count": 10,
   "metadata": {},
   "outputs": [],
   "source": [
    "BATCH_SIZE = 64\n",
    "NUM_WORKERS = 4\n",
    "#########################################################################\n",
    "# TODO: Build a dataloader for both train and test data.\n",
    "#########################################################################\n",
    "dl_train = DataLoader(ds_train, batch_size=BATCH_SIZE, shuffle=True, num_workers=NUM_WORKERS)\n",
    "dl_test = DataLoader(ds_test, batch_size=BATCH_SIZE, shuffle=False, num_workers=NUM_WORKERS)"
   ]
  },
  {
   "cell_type": "markdown",
   "metadata": {},
   "source": [
    "## MLP in Pytorch\n",
    "\n",
    "Ok, the dataloading works. Let's build our model, PyTorch makes this very easy. We will build replicate the model from our last exercises. However, now, we add another variable called `nLayer` that indicates how many linear layers that in your network. Please adapt your code from last exercise accordingly to allow different number of layers."
   ]
  },
  {
   "cell_type": "code",
   "execution_count": 11,
   "metadata": {},
   "outputs": [],
   "source": [
    "# These are the parameters to be used\n",
    "nInput = 784\n",
    "nOutput = 10\n",
    "nLayer = 2\n",
    "nHidden = 16\n",
    "act_fn = nn.ReLU()"
   ]
  },
  {
   "cell_type": "code",
   "execution_count": 12,
   "metadata": {},
   "outputs": [],
   "source": [
    "#########################################################################\n",
    "# TODO: Implement the __init__ of the MLP class. \n",
    "# insert the activation after every linear layer. Important: the number of \n",
    "# hidden layers should be variable!\n",
    "#########################################################################\n",
    "\n",
    "class MLP(nn.Module):\n",
    "    def __init__(self, nInput, nOutput, nLayer, nHidden, act_fn):\n",
    "        super(MLP, self).__init__()\n",
    "        layers = [] \n",
    "        \n",
    "        ##### implement this part #####\n",
    "         # Add input layer\n",
    "        layers.append(nn.Linear(nInput, nHidden))\n",
    "        layers.append(act_fn)\n",
    "\n",
    "        # Add hidden layers\n",
    "        for _ in range(nLayer - 1):\n",
    "            layers.append(nn.Linear(nHidden, nHidden))\n",
    "            layers.append(act_fn)\n",
    "\n",
    "        # Add output layer\n",
    "        layers.append(nn.Linear(nHidden, nOutput))\n",
    "        \n",
    "        ###############################\n",
    "        \n",
    "        self.model = nn.Sequential(*layers)\n",
    "\n",
    "    def forward(self, x):\n",
    "        x = torch.flatten(x, 1)\n",
    "        return self.model(x)"
   ]
  },
  {
   "cell_type": "code",
   "execution_count": 13,
   "metadata": {
    "scrolled": true
   },
   "outputs": [
    {
     "data": {
      "text/plain": [
       "torch.Size([1, 10])"
      ]
     },
     "execution_count": 13,
     "metadata": {},
     "output_type": "execute_result"
    }
   ],
   "source": [
    "# Let's test if the forward pass works\n",
    "# this should print torch.Size([1, 10])\n",
    "t = torch.randn(1,1,28,28)\n",
    "mlp = MLP(nInput, nOutput, nLayer, nHidden, act_fn)\n",
    "mlp(t).shape"
   ]
  },
  {
   "cell_type": "code",
   "execution_count": 14,
   "metadata": {},
   "outputs": [
    {
     "data": {
      "text/plain": [
       "MLP(\n",
       "  (model): Sequential(\n",
       "    (0): Linear(in_features=784, out_features=16, bias=True)\n",
       "    (1): ReLU()\n",
       "    (2): Linear(in_features=16, out_features=16, bias=True)\n",
       "    (3): ReLU()\n",
       "    (4): Linear(in_features=16, out_features=10, bias=True)\n",
       "  )\n",
       ")"
      ]
     },
     "execution_count": 14,
     "metadata": {},
     "output_type": "execute_result"
    }
   ],
   "source": [
    "mlp"
   ]
  },
  {
   "cell_type": "markdown",
   "metadata": {},
   "source": [
    "We already implemented the test function for you"
   ]
  },
  {
   "cell_type": "code",
   "execution_count": 15,
   "metadata": {},
   "outputs": [],
   "source": [
    "def test(model, dl_test, device='cpu'):\n",
    "    model.eval()\n",
    "    test_loss = 0\n",
    "    correct = 0\n",
    "    with torch.no_grad():\n",
    "        for data, target in dl_test:\n",
    "            data, target = data.to(device), target.to(device)\n",
    "            output = model(data)\n",
    "            test_loss += F.cross_entropy(output, target, reduction='sum').item()  # sum up batch loss\n",
    "            pred = output.argmax(dim=1, keepdim=True)  # get the index of the max log-probability\n",
    "            correct += pred.eq(target.view_as(pred)).sum().item()\n",
    "\n",
    "    test_loss /= len(dl_test.dataset)\n",
    "\n",
    "    print('\\nTest set: Average loss: {:.4f}, Accuracy: {}/{} ({:.3f}%)\\n'.format(\n",
    "        test_loss, correct, len(dl_test.dataset),\n",
    "        100. * correct / len(dl_test.dataset)))"
   ]
  },
  {
   "cell_type": "markdown",
   "metadata": {},
   "source": [
    "Now you only need to implement the training and you are good to go"
   ]
  },
  {
   "cell_type": "code",
   "execution_count": 16,
   "metadata": {},
   "outputs": [],
   "source": [
    "#########################################################################\n",
    "# TODO: Implement the missing part of the training function. As a loss function we want to use cross entropy\n",
    "# It can be called with F.cross_entropy().\n",
    "# Hint: Pass through the model -> Backpropagate gradients -> Take gradient step\n",
    "#########################################################################\n",
    "\n",
    "def train(model, dl_train, optimizer, epoch, log_interval=100, device='cpu'):\n",
    "    model.train()\n",
    "    correct = 0\n",
    "    total_loss = 0\n",
    "\n",
    "    for batch_idx, (data, target) in enumerate(dl_train):\n",
    "        data, target = data.to(device), target.to(device)\n",
    "        \n",
    "        # first we need to zero the gradient, otherwise PyTorch would accumulate them\n",
    "        optimizer.zero_grad()         \n",
    "        \n",
    "        ##### implement this part #####\n",
    "        # Forward pass\n",
    "        output = model(data)\n",
    "\n",
    "        # Compute the cross-entropy loss\n",
    "        loss = F.cross_entropy(output, target)\n",
    "        total_loss += loss.item()\n",
    "\n",
    "        # Backpropagation\n",
    "        loss.backward()\n",
    "\n",
    "        # Take a gradient step\n",
    "        optimizer.step()\n",
    "        \n",
    "        ###############################\n",
    "\n",
    "        # stats\n",
    "        pred = output.argmax(dim=1, keepdim=True)  # get the index of the max log-probability\n",
    "        correct += pred.eq(target.view_as(pred)).sum().item()\n",
    "\n",
    "        if batch_idx % log_interval == 0:\n",
    "            print('Train Epoch: {} [{}/{} ({:.0f}%)]\\tLoss: {:.6f}'.format(\n",
    "                epoch, batch_idx * len(data), len(dl_train.dataset),\n",
    "                100. * batch_idx / len(dl_train), loss.item()))\n",
    "\n",
    "    print('\\nTrain set: Average loss: {:.4f}, Accuracy: {}/{} ({:.1f}%)\\n'.format(\n",
    "        loss, correct, len(dl_train.dataset),\n",
    "        100. * correct / len(dl_train.dataset)))"
   ]
  },
  {
   "cell_type": "markdown",
   "metadata": {},
   "source": [
    "Ok, the setup is almost done. The onoly missing part is the optimizer. We are going to use Adam."
   ]
  },
  {
   "cell_type": "code",
   "execution_count": 17,
   "metadata": {},
   "outputs": [],
   "source": [
    "# reinitialize the mlp, so we can play with parameters right here\n",
    "mlp = MLP(nInput, nOutput, nLayer, nHidden, act_fn)\n",
    "optimizer = optim.Adam(mlp.parameters())"
   ]
  },
  {
   "cell_type": "code",
   "execution_count": 18,
   "metadata": {
    "scrolled": true
   },
   "outputs": [
    {
     "name": "stdout",
     "output_type": "stream",
     "text": [
      "Train Epoch: 1 [0/60000 (0%)]\tLoss: 2.308489\n",
      "Train Epoch: 1 [6400/60000 (11%)]\tLoss: 0.770455\n",
      "Train Epoch: 1 [12800/60000 (21%)]\tLoss: 0.274101\n",
      "Train Epoch: 1 [19200/60000 (32%)]\tLoss: 0.360970\n",
      "Train Epoch: 1 [25600/60000 (43%)]\tLoss: 0.328092\n",
      "Train Epoch: 1 [32000/60000 (53%)]\tLoss: 0.330346\n",
      "Train Epoch: 1 [38400/60000 (64%)]\tLoss: 0.203286\n",
      "Train Epoch: 1 [44800/60000 (75%)]\tLoss: 0.143619\n",
      "Train Epoch: 1 [51200/60000 (85%)]\tLoss: 0.288607\n",
      "Train Epoch: 1 [57600/60000 (96%)]\tLoss: 0.193935\n",
      "\n",
      "Train set: Average loss: 0.0979, Accuracy: 51460/60000 (85.8%)\n",
      "\n",
      "\n",
      "Test set: Average loss: 0.2612, Accuracy: 9229/10000 (92.290%)\n",
      "\n",
      "Train Epoch: 2 [0/60000 (0%)]\tLoss: 0.219445\n",
      "Train Epoch: 2 [6400/60000 (11%)]\tLoss: 0.190188\n",
      "Train Epoch: 2 [12800/60000 (21%)]\tLoss: 0.194766\n",
      "Train Epoch: 2 [19200/60000 (32%)]\tLoss: 0.134956\n",
      "Train Epoch: 2 [25600/60000 (43%)]\tLoss: 0.336672\n",
      "Train Epoch: 2 [32000/60000 (53%)]\tLoss: 0.313070\n",
      "Train Epoch: 2 [38400/60000 (64%)]\tLoss: 0.289305\n",
      "Train Epoch: 2 [44800/60000 (75%)]\tLoss: 0.274773\n",
      "Train Epoch: 2 [51200/60000 (85%)]\tLoss: 0.386633\n",
      "Train Epoch: 2 [57600/60000 (96%)]\tLoss: 0.334145\n",
      "\n",
      "Train set: Average loss: 0.1780, Accuracy: 55764/60000 (92.9%)\n",
      "\n",
      "\n",
      "Test set: Average loss: 0.2105, Accuracy: 9356/10000 (93.560%)\n",
      "\n",
      "Train Epoch: 3 [0/60000 (0%)]\tLoss: 0.217245\n",
      "Train Epoch: 3 [6400/60000 (11%)]\tLoss: 0.125328\n",
      "Train Epoch: 3 [12800/60000 (21%)]\tLoss: 0.138948\n",
      "Train Epoch: 3 [19200/60000 (32%)]\tLoss: 0.187564\n",
      "Train Epoch: 3 [25600/60000 (43%)]\tLoss: 0.268876\n",
      "Train Epoch: 3 [32000/60000 (53%)]\tLoss: 0.145777\n",
      "Train Epoch: 3 [38400/60000 (64%)]\tLoss: 0.319352\n",
      "Train Epoch: 3 [44800/60000 (75%)]\tLoss: 0.233845\n",
      "Train Epoch: 3 [51200/60000 (85%)]\tLoss: 0.126394\n",
      "Train Epoch: 3 [57600/60000 (96%)]\tLoss: 0.254417\n",
      "\n",
      "Train set: Average loss: 0.5278, Accuracy: 56488/60000 (94.1%)\n",
      "\n",
      "\n",
      "Test set: Average loss: 0.1865, Accuracy: 9438/10000 (94.380%)\n",
      "\n",
      "Train Epoch: 4 [0/60000 (0%)]\tLoss: 0.215352\n",
      "Train Epoch: 4 [6400/60000 (11%)]\tLoss: 0.115901\n",
      "Train Epoch: 4 [12800/60000 (21%)]\tLoss: 0.176348\n",
      "Train Epoch: 4 [19200/60000 (32%)]\tLoss: 0.117219\n",
      "Train Epoch: 4 [25600/60000 (43%)]\tLoss: 0.222024\n",
      "Train Epoch: 4 [32000/60000 (53%)]\tLoss: 0.309269\n",
      "Train Epoch: 4 [38400/60000 (64%)]\tLoss: 0.164325\n",
      "Train Epoch: 4 [44800/60000 (75%)]\tLoss: 0.095689\n",
      "Train Epoch: 4 [51200/60000 (85%)]\tLoss: 0.188609\n",
      "Train Epoch: 4 [57600/60000 (96%)]\tLoss: 0.157688\n",
      "\n",
      "Train set: Average loss: 0.1741, Accuracy: 56895/60000 (94.8%)\n",
      "\n",
      "\n",
      "Test set: Average loss: 0.1720, Accuracy: 9482/10000 (94.820%)\n",
      "\n",
      "Train Epoch: 5 [0/60000 (0%)]\tLoss: 0.250179\n",
      "Train Epoch: 5 [6400/60000 (11%)]\tLoss: 0.281108\n",
      "Train Epoch: 5 [12800/60000 (21%)]\tLoss: 0.126059\n",
      "Train Epoch: 5 [19200/60000 (32%)]\tLoss: 0.061818\n",
      "Train Epoch: 5 [25600/60000 (43%)]\tLoss: 0.079791\n",
      "Train Epoch: 5 [32000/60000 (53%)]\tLoss: 0.134519\n",
      "Train Epoch: 5 [38400/60000 (64%)]\tLoss: 0.212846\n",
      "Train Epoch: 5 [44800/60000 (75%)]\tLoss: 0.127242\n",
      "Train Epoch: 5 [51200/60000 (85%)]\tLoss: 0.058496\n",
      "Train Epoch: 5 [57600/60000 (96%)]\tLoss: 0.320499\n",
      "\n",
      "Train set: Average loss: 0.0468, Accuracy: 57172/60000 (95.3%)\n",
      "\n",
      "\n",
      "Test set: Average loss: 0.1598, Accuracy: 9520/10000 (95.200%)\n",
      "\n",
      "Train Epoch: 6 [0/60000 (0%)]\tLoss: 0.250719\n",
      "Train Epoch: 6 [6400/60000 (11%)]\tLoss: 0.264683\n",
      "Train Epoch: 6 [12800/60000 (21%)]\tLoss: 0.086905\n",
      "Train Epoch: 6 [19200/60000 (32%)]\tLoss: 0.080939\n",
      "Train Epoch: 6 [25600/60000 (43%)]\tLoss: 0.109352\n",
      "Train Epoch: 6 [32000/60000 (53%)]\tLoss: 0.153261\n",
      "Train Epoch: 6 [38400/60000 (64%)]\tLoss: 0.104623\n",
      "Train Epoch: 6 [44800/60000 (75%)]\tLoss: 0.094477\n",
      "Train Epoch: 6 [51200/60000 (85%)]\tLoss: 0.229783\n",
      "Train Epoch: 6 [57600/60000 (96%)]\tLoss: 0.135365\n",
      "\n",
      "Train set: Average loss: 0.0734, Accuracy: 57268/60000 (95.4%)\n",
      "\n",
      "\n",
      "Test set: Average loss: 0.1568, Accuracy: 9522/10000 (95.220%)\n",
      "\n",
      "Train Epoch: 7 [0/60000 (0%)]\tLoss: 0.155737\n",
      "Train Epoch: 7 [6400/60000 (11%)]\tLoss: 0.151121\n",
      "Train Epoch: 7 [12800/60000 (21%)]\tLoss: 0.123795\n",
      "Train Epoch: 7 [19200/60000 (32%)]\tLoss: 0.039032\n",
      "Train Epoch: 7 [25600/60000 (43%)]\tLoss: 0.180446\n",
      "Train Epoch: 7 [32000/60000 (53%)]\tLoss: 0.056500\n",
      "Train Epoch: 7 [38400/60000 (64%)]\tLoss: 0.103746\n",
      "Train Epoch: 7 [44800/60000 (75%)]\tLoss: 0.095637\n",
      "Train Epoch: 7 [51200/60000 (85%)]\tLoss: 0.050161\n",
      "Train Epoch: 7 [57600/60000 (96%)]\tLoss: 0.108685\n",
      "\n",
      "Train set: Average loss: 0.2323, Accuracy: 57448/60000 (95.7%)\n",
      "\n",
      "\n",
      "Test set: Average loss: 0.1466, Accuracy: 9539/10000 (95.390%)\n",
      "\n",
      "Train Epoch: 8 [0/60000 (0%)]\tLoss: 0.093374\n",
      "Train Epoch: 8 [6400/60000 (11%)]\tLoss: 0.245163\n",
      "Train Epoch: 8 [12800/60000 (21%)]\tLoss: 0.180189\n",
      "Train Epoch: 8 [19200/60000 (32%)]\tLoss: 0.155271\n",
      "Train Epoch: 8 [25600/60000 (43%)]\tLoss: 0.152644\n",
      "Train Epoch: 8 [32000/60000 (53%)]\tLoss: 0.106262\n",
      "Train Epoch: 8 [38400/60000 (64%)]\tLoss: 0.065837\n",
      "Train Epoch: 8 [44800/60000 (75%)]\tLoss: 0.145278\n",
      "Train Epoch: 8 [51200/60000 (85%)]\tLoss: 0.163767\n",
      "Train Epoch: 8 [57600/60000 (96%)]\tLoss: 0.123364\n",
      "\n",
      "Train set: Average loss: 0.1447, Accuracy: 57603/60000 (96.0%)\n",
      "\n",
      "\n",
      "Test set: Average loss: 0.1598, Accuracy: 9505/10000 (95.050%)\n",
      "\n",
      "Train Epoch: 9 [0/60000 (0%)]\tLoss: 0.184645\n",
      "Train Epoch: 9 [6400/60000 (11%)]\tLoss: 0.121726\n",
      "Train Epoch: 9 [12800/60000 (21%)]\tLoss: 0.055875\n",
      "Train Epoch: 9 [19200/60000 (32%)]\tLoss: 0.028683\n",
      "Train Epoch: 9 [25600/60000 (43%)]\tLoss: 0.056142\n",
      "Train Epoch: 9 [32000/60000 (53%)]\tLoss: 0.229277\n",
      "Train Epoch: 9 [38400/60000 (64%)]\tLoss: 0.065012\n",
      "Train Epoch: 9 [44800/60000 (75%)]\tLoss: 0.153120\n",
      "Train Epoch: 9 [51200/60000 (85%)]\tLoss: 0.041545\n",
      "Train Epoch: 9 [57600/60000 (96%)]\tLoss: 0.112084\n",
      "\n",
      "Train set: Average loss: 0.1022, Accuracy: 57680/60000 (96.1%)\n",
      "\n",
      "\n",
      "Test set: Average loss: 0.1437, Accuracy: 9557/10000 (95.570%)\n",
      "\n",
      "Train Epoch: 10 [0/60000 (0%)]\tLoss: 0.071802\n",
      "Train Epoch: 10 [6400/60000 (11%)]\tLoss: 0.071338\n",
      "Train Epoch: 10 [12800/60000 (21%)]\tLoss: 0.028195\n",
      "Train Epoch: 10 [19200/60000 (32%)]\tLoss: 0.079664\n",
      "Train Epoch: 10 [25600/60000 (43%)]\tLoss: 0.139679\n",
      "Train Epoch: 10 [32000/60000 (53%)]\tLoss: 0.299816\n",
      "Train Epoch: 10 [38400/60000 (64%)]\tLoss: 0.126926\n",
      "Train Epoch: 10 [44800/60000 (75%)]\tLoss: 0.208801\n",
      "Train Epoch: 10 [51200/60000 (85%)]\tLoss: 0.055615\n",
      "Train Epoch: 10 [57600/60000 (96%)]\tLoss: 0.154116\n",
      "\n",
      "Train set: Average loss: 0.0706, Accuracy: 57772/60000 (96.3%)\n",
      "\n",
      "\n",
      "Test set: Average loss: 0.1374, Accuracy: 9583/10000 (95.830%)\n",
      "\n",
      "Training is finished.\n"
     ]
    }
   ],
   "source": [
    "epochs = 10\n",
    "for epoch in range(1, epochs + 1):\n",
    "    train(mlp, dl_train, optimizer, epoch, log_interval=100)\n",
    "    test(mlp, dl_test)\n",
    "\n",
    "print ('Training is finished.')"
   ]
  },
  {
   "cell_type": "markdown",
   "metadata": {},
   "source": [
    "After training, you should see test accuracies of > **94%** - By they way, here we report test accuracy, the last exercises reported test error. Accuracy is simply (1 - error). Both metrics are commonly reported, there is no clear preference in literature for one or the other."
   ]
  },
  {
   "cell_type": "markdown",
   "metadata": {},
   "source": [
    "Now, can you do some parameter tuning to boost the test accuracy to > **97%**?"
   ]
  },
  {
   "cell_type": "code",
   "execution_count": 21,
   "metadata": {},
   "outputs": [
    {
     "name": "stdout",
     "output_type": "stream",
     "text": [
      "Train Epoch: 1 [0/60000 (0%)]\tLoss: 2.331753\n",
      "Train Epoch: 1 [6400/60000 (11%)]\tLoss: 0.448542\n",
      "Train Epoch: 1 [12800/60000 (21%)]\tLoss: 0.455603\n",
      "Train Epoch: 1 [19200/60000 (32%)]\tLoss: 0.275236\n",
      "Train Epoch: 1 [25600/60000 (43%)]\tLoss: 0.212936\n",
      "Train Epoch: 1 [32000/60000 (53%)]\tLoss: 0.479067\n",
      "Train Epoch: 1 [38400/60000 (64%)]\tLoss: 0.214329\n",
      "Train Epoch: 1 [44800/60000 (75%)]\tLoss: 0.297362\n",
      "Train Epoch: 1 [51200/60000 (85%)]\tLoss: 0.229296\n",
      "Train Epoch: 1 [57600/60000 (96%)]\tLoss: 0.282304\n",
      "\n",
      "Train set: Average loss: 0.2162, Accuracy: 53474/60000 (89.1%)\n",
      "\n",
      "\n",
      "Test set: Average loss: 0.2105, Accuracy: 9351/10000 (93.510%)\n",
      "\n",
      "Train Epoch: 2 [0/60000 (0%)]\tLoss: 0.425844\n",
      "Train Epoch: 2 [6400/60000 (11%)]\tLoss: 0.098689\n",
      "Train Epoch: 2 [12800/60000 (21%)]\tLoss: 0.124854\n",
      "Train Epoch: 2 [19200/60000 (32%)]\tLoss: 0.187673\n",
      "Train Epoch: 2 [25600/60000 (43%)]\tLoss: 0.165751\n",
      "Train Epoch: 2 [32000/60000 (53%)]\tLoss: 0.144578\n",
      "Train Epoch: 2 [38400/60000 (64%)]\tLoss: 0.104353\n",
      "Train Epoch: 2 [44800/60000 (75%)]\tLoss: 0.109216\n",
      "Train Epoch: 2 [51200/60000 (85%)]\tLoss: 0.106331\n",
      "Train Epoch: 2 [57600/60000 (96%)]\tLoss: 0.240441\n",
      "\n",
      "Train set: Average loss: 0.0663, Accuracy: 56787/60000 (94.6%)\n",
      "\n",
      "\n",
      "Test set: Average loss: 0.1513, Accuracy: 9567/10000 (95.670%)\n",
      "\n",
      "Train Epoch: 3 [0/60000 (0%)]\tLoss: 0.085805\n",
      "Train Epoch: 3 [6400/60000 (11%)]\tLoss: 0.123002\n",
      "Train Epoch: 3 [12800/60000 (21%)]\tLoss: 0.056333\n",
      "Train Epoch: 3 [19200/60000 (32%)]\tLoss: 0.169524\n",
      "Train Epoch: 3 [25600/60000 (43%)]\tLoss: 0.156377\n",
      "Train Epoch: 3 [32000/60000 (53%)]\tLoss: 0.104730\n",
      "Train Epoch: 3 [38400/60000 (64%)]\tLoss: 0.100321\n",
      "Train Epoch: 3 [44800/60000 (75%)]\tLoss: 0.095425\n",
      "Train Epoch: 3 [51200/60000 (85%)]\tLoss: 0.077506\n",
      "Train Epoch: 3 [57600/60000 (96%)]\tLoss: 0.095736\n",
      "\n",
      "Train set: Average loss: 0.0549, Accuracy: 57418/60000 (95.7%)\n",
      "\n",
      "\n",
      "Test set: Average loss: 0.1445, Accuracy: 9551/10000 (95.510%)\n",
      "\n",
      "Train Epoch: 4 [0/60000 (0%)]\tLoss: 0.134056\n",
      "Train Epoch: 4 [6400/60000 (11%)]\tLoss: 0.162898\n",
      "Train Epoch: 4 [12800/60000 (21%)]\tLoss: 0.153917\n",
      "Train Epoch: 4 [19200/60000 (32%)]\tLoss: 0.040964\n",
      "Train Epoch: 4 [25600/60000 (43%)]\tLoss: 0.184720\n",
      "Train Epoch: 4 [32000/60000 (53%)]\tLoss: 0.152265\n",
      "Train Epoch: 4 [38400/60000 (64%)]\tLoss: 0.022033\n",
      "Train Epoch: 4 [44800/60000 (75%)]\tLoss: 0.170470\n",
      "Train Epoch: 4 [51200/60000 (85%)]\tLoss: 0.158660\n",
      "Train Epoch: 4 [57600/60000 (96%)]\tLoss: 0.068996\n",
      "\n",
      "Train set: Average loss: 0.0825, Accuracy: 57836/60000 (96.4%)\n",
      "\n",
      "\n",
      "Test set: Average loss: 0.1283, Accuracy: 9615/10000 (96.150%)\n",
      "\n",
      "Train Epoch: 5 [0/60000 (0%)]\tLoss: 0.055458\n",
      "Train Epoch: 5 [6400/60000 (11%)]\tLoss: 0.035520\n",
      "Train Epoch: 5 [12800/60000 (21%)]\tLoss: 0.020107\n",
      "Train Epoch: 5 [19200/60000 (32%)]\tLoss: 0.079982\n",
      "Train Epoch: 5 [25600/60000 (43%)]\tLoss: 0.028255\n",
      "Train Epoch: 5 [32000/60000 (53%)]\tLoss: 0.098269\n",
      "Train Epoch: 5 [38400/60000 (64%)]\tLoss: 0.018299\n",
      "Train Epoch: 5 [44800/60000 (75%)]\tLoss: 0.049330\n",
      "Train Epoch: 5 [51200/60000 (85%)]\tLoss: 0.090295\n",
      "Train Epoch: 5 [57600/60000 (96%)]\tLoss: 0.063550\n",
      "\n",
      "Train set: Average loss: 0.0038, Accuracy: 58073/60000 (96.8%)\n",
      "\n",
      "\n",
      "Test set: Average loss: 0.1109, Accuracy: 9678/10000 (96.780%)\n",
      "\n",
      "Train Epoch: 6 [0/60000 (0%)]\tLoss: 0.126971\n",
      "Train Epoch: 6 [6400/60000 (11%)]\tLoss: 0.147697\n",
      "Train Epoch: 6 [12800/60000 (21%)]\tLoss: 0.088256\n",
      "Train Epoch: 6 [19200/60000 (32%)]\tLoss: 0.082332\n",
      "Train Epoch: 6 [25600/60000 (43%)]\tLoss: 0.148480\n",
      "Train Epoch: 6 [32000/60000 (53%)]\tLoss: 0.146805\n",
      "Train Epoch: 6 [38400/60000 (64%)]\tLoss: 0.024303\n",
      "Train Epoch: 6 [44800/60000 (75%)]\tLoss: 0.051433\n",
      "Train Epoch: 6 [51200/60000 (85%)]\tLoss: 0.109243\n",
      "Train Epoch: 6 [57600/60000 (96%)]\tLoss: 0.054444\n",
      "\n",
      "Train set: Average loss: 0.0226, Accuracy: 58266/60000 (97.1%)\n",
      "\n",
      "\n",
      "Test set: Average loss: 0.1363, Accuracy: 9614/10000 (96.140%)\n",
      "\n",
      "Train Epoch: 7 [0/60000 (0%)]\tLoss: 0.090236\n",
      "Train Epoch: 7 [6400/60000 (11%)]\tLoss: 0.086297\n",
      "Train Epoch: 7 [12800/60000 (21%)]\tLoss: 0.083324\n",
      "Train Epoch: 7 [19200/60000 (32%)]\tLoss: 0.038677\n",
      "Train Epoch: 7 [25600/60000 (43%)]\tLoss: 0.048433\n",
      "Train Epoch: 7 [32000/60000 (53%)]\tLoss: 0.096216\n",
      "Train Epoch: 7 [38400/60000 (64%)]\tLoss: 0.296103\n",
      "Train Epoch: 7 [44800/60000 (75%)]\tLoss: 0.061738\n",
      "Train Epoch: 7 [51200/60000 (85%)]\tLoss: 0.038207\n",
      "Train Epoch: 7 [57600/60000 (96%)]\tLoss: 0.133814\n",
      "\n",
      "Train set: Average loss: 0.2312, Accuracy: 58417/60000 (97.4%)\n",
      "\n",
      "\n",
      "Test set: Average loss: 0.1138, Accuracy: 9650/10000 (96.500%)\n",
      "\n",
      "Train Epoch: 8 [0/60000 (0%)]\tLoss: 0.037384\n",
      "Train Epoch: 8 [6400/60000 (11%)]\tLoss: 0.131969\n",
      "Train Epoch: 8 [12800/60000 (21%)]\tLoss: 0.233947\n",
      "Train Epoch: 8 [19200/60000 (32%)]\tLoss: 0.110420\n",
      "Train Epoch: 8 [25600/60000 (43%)]\tLoss: 0.023721\n",
      "Train Epoch: 8 [32000/60000 (53%)]\tLoss: 0.019994\n",
      "Train Epoch: 8 [38400/60000 (64%)]\tLoss: 0.021596\n",
      "Train Epoch: 8 [44800/60000 (75%)]\tLoss: 0.073059\n",
      "Train Epoch: 8 [51200/60000 (85%)]\tLoss: 0.021093\n",
      "Train Epoch: 8 [57600/60000 (96%)]\tLoss: 0.110168\n",
      "\n",
      "Train set: Average loss: 0.0118, Accuracy: 58479/60000 (97.5%)\n",
      "\n",
      "\n",
      "Test set: Average loss: 0.1157, Accuracy: 9663/10000 (96.630%)\n",
      "\n",
      "Train Epoch: 9 [0/60000 (0%)]\tLoss: 0.044733\n",
      "Train Epoch: 9 [6400/60000 (11%)]\tLoss: 0.041383\n",
      "Train Epoch: 9 [12800/60000 (21%)]\tLoss: 0.044714\n",
      "Train Epoch: 9 [19200/60000 (32%)]\tLoss: 0.045790\n",
      "Train Epoch: 9 [25600/60000 (43%)]\tLoss: 0.042056\n",
      "Train Epoch: 9 [32000/60000 (53%)]\tLoss: 0.036793\n",
      "Train Epoch: 9 [38400/60000 (64%)]\tLoss: 0.272699\n",
      "Train Epoch: 9 [44800/60000 (75%)]\tLoss: 0.025804\n",
      "Train Epoch: 9 [51200/60000 (85%)]\tLoss: 0.062504\n",
      "Train Epoch: 9 [57600/60000 (96%)]\tLoss: 0.030637\n",
      "\n",
      "Train set: Average loss: 0.0171, Accuracy: 58634/60000 (97.7%)\n",
      "\n",
      "\n",
      "Test set: Average loss: 0.1090, Accuracy: 9680/10000 (96.800%)\n",
      "\n",
      "Train Epoch: 10 [0/60000 (0%)]\tLoss: 0.143266\n",
      "Train Epoch: 10 [6400/60000 (11%)]\tLoss: 0.086940\n",
      "Train Epoch: 10 [12800/60000 (21%)]\tLoss: 0.035146\n",
      "Train Epoch: 10 [19200/60000 (32%)]\tLoss: 0.056234\n",
      "Train Epoch: 10 [25600/60000 (43%)]\tLoss: 0.080863\n",
      "Train Epoch: 10 [32000/60000 (53%)]\tLoss: 0.087331\n",
      "Train Epoch: 10 [38400/60000 (64%)]\tLoss: 0.067957\n",
      "Train Epoch: 10 [44800/60000 (75%)]\tLoss: 0.037001\n",
      "Train Epoch: 10 [51200/60000 (85%)]\tLoss: 0.098673\n",
      "Train Epoch: 10 [57600/60000 (96%)]\tLoss: 0.058218\n",
      "\n",
      "Train set: Average loss: 0.0864, Accuracy: 58714/60000 (97.9%)\n",
      "\n",
      "\n",
      "Test set: Average loss: 0.1268, Accuracy: 9628/10000 (96.280%)\n",
      "\n",
      "Training is finished.\n"
     ]
    }
   ],
   "source": [
    "#########################################################################\n",
    "#TODO: modify the parameters below to see which setting that you can get to 97%\n",
    "#########################################################################\n",
    "nLayer = 2\n",
    "nHidden = 32\n",
    "act_fn = nn.ReLU()\n",
    "\n",
    "# reinitialize the mlp, so we can play with parameters right here\n",
    "mlp = MLP(nInput, nOutput, nLayer, nHidden, act_fn)\n",
    "optimizer = optim.Adam(mlp.parameters())\n",
    "\n",
    "epochs = 10\n",
    "for epoch in range(1, epochs + 1):\n",
    "    train(mlp, dl_train, optimizer, epoch, log_interval=100)\n",
    "    test(mlp, dl_test)\n",
    "\n",
    "print ('Training is finished.')"
   ]
  },
  {
   "cell_type": "markdown",
   "metadata": {},
   "source": [
    "Before you move on to the next exercise, you can further play with the other parameters (learning rate, epochs, a different optimizer, etc.) to get a feeling what can improve or hamper performance. "
   ]
  },
  {
   "cell_type": "markdown",
   "metadata": {},
   "source": [
    "## CNN\n",
    "Alright, we matched our prior performance. Let's surpass it! You will soon see the power of CNN by building a small one yourself. The structure should be as follows\n",
    "\n",
    "| CNN Architecture                             \t|\n",
    "|----------------------------------------------\t|\n",
    "| Conv: $C_{in}=1, C_{out}=32, K=3, S=1, P=0$  \t|\n",
    "| ReLU                                         \t|\n",
    "| Conv: $C_{in}=32, C_{out}=64, K=3, S=1, P=0$ \t|\n",
    "| ReLU                                         \t|\n",
    "| MaxPool2d: $K=2, S=2, P=0$                   \t|\n",
    "| Dropout: $p=0.25$                            \t|\n",
    "| Linear: $C_{in}=9216, C_{out}=128$           \t|\n",
    "| ReLU                                         \t|\n",
    "| Dropout: $p=0.5$                             \t|\n",
    "| Linear: $C_{in}=128, C_{out}=10$             \t|\n",
    "\n",
    "The layers you will need are: \n",
    "\n",
    "`nn.Conv2d,  nn.Linear,  nn.Dropout, nn.MaxPool2d, nn.Flatten`\n",
    "\n",
    "For layers without parameters you can alternatively use function in the forward pass:  \n",
    "\n",
    "`F.max_pool2d, torch.flatten`"
   ]
  },
  {
   "cell_type": "code",
   "execution_count": 26,
   "metadata": {},
   "outputs": [],
   "source": [
    "#########################################################################\n",
    "# TODO: Implement the __init__ and forward method of the CNN class. \n",
    "# Hint: do not forget to flatten the appropriate dimension after the convolutional blocks. \n",
    "# A linear layers expect input of the size (B, H) with batch size B and feature size H\n",
    "#########################################################################\n",
    "\n",
    "class CNN(nn.Module):\n",
    "    def __init__(self):\n",
    "        super(CNN, self).__init__()\n",
    "        # Define the layers\n",
    "        self.conv1 = nn.Conv2d(1, 32, kernel_size=3, stride=1, padding=1)  # Added padding\n",
    "        self.conv2 = nn.Conv2d(32, 64, kernel_size=3, stride=1, padding=1)  # Added padding\n",
    "        self.pool = nn.MaxPool2d(kernel_size=2, stride=2)\n",
    "        self.fc1 = nn.Linear(64 * 7 * 7, 128)  # Adjusted input size\n",
    "        self.fc2 = nn.Linear(128, 10)\n",
    "\n",
    "        # Define dropout layers\n",
    "        self.dropout1 = nn.Dropout(0.25)\n",
    "        self.dropout2 = nn.Dropout(0.5)\n",
    "\n",
    "    def forward(self, x):\n",
    "        # Convolutional layers: NOTE that this does not represent the structure above (which achieved a test accuracy of 98.9% when tested)\n",
    "        x = F.relu(self.conv1(x))\n",
    "        x = self.pool(x)\n",
    "        x = F.relu(self.conv2(x))\n",
    "        x = self.pool(x)\n",
    "        x = x.view(-1, 64 * 7 * 7)  # Adjusted for the new input size\n",
    "        x = self.dropout1(x)\n",
    "\n",
    "        # Fully connected layers\n",
    "        x = F.relu(self.fc1(x))\n",
    "        x = self.dropout2(x)\n",
    "        x = self.fc2(x)\n",
    "\n",
    "        return x\n"
   ]
  },
  {
   "cell_type": "code",
   "execution_count": 27,
   "metadata": {},
   "outputs": [
    {
     "data": {
      "text/plain": [
       "torch.Size([1, 10])"
      ]
     },
     "execution_count": 27,
     "metadata": {},
     "output_type": "execute_result"
    }
   ],
   "source": [
    "# Let's test if the forward pass works\n",
    "# this should print torch.Size([1, 10])\n",
    "t = torch.randn(1,1,28,28)\n",
    "cnn = CNN()\n",
    "cnn(t).shape"
   ]
  },
  {
   "cell_type": "markdown",
   "metadata": {},
   "source": [
    "Alright, let's train!"
   ]
  },
  {
   "cell_type": "code",
   "execution_count": 28,
   "metadata": {},
   "outputs": [],
   "source": [
    "optimizer = optim.Adam(cnn.parameters())"
   ]
  },
  {
   "cell_type": "code",
   "execution_count": 29,
   "metadata": {
    "scrolled": true
   },
   "outputs": [
    {
     "name": "stdout",
     "output_type": "stream",
     "text": [
      "Train Epoch: 1 [0/60000 (0%)]\tLoss: 2.313806\n",
      "Train Epoch: 1 [6400/60000 (11%)]\tLoss: 0.279972\n",
      "Train Epoch: 1 [12800/60000 (21%)]\tLoss: 0.183312\n",
      "Train Epoch: 1 [19200/60000 (32%)]\tLoss: 0.099819\n",
      "Train Epoch: 1 [25600/60000 (43%)]\tLoss: 0.259804\n",
      "Train Epoch: 1 [32000/60000 (53%)]\tLoss: 0.098398\n",
      "Train Epoch: 1 [38400/60000 (64%)]\tLoss: 0.136549\n",
      "Train Epoch: 1 [44800/60000 (75%)]\tLoss: 0.042778\n",
      "Train Epoch: 1 [51200/60000 (85%)]\tLoss: 0.084384\n",
      "Train Epoch: 1 [57600/60000 (96%)]\tLoss: 0.335493\n",
      "\n",
      "Train set: Average loss: 0.1229, Accuracy: 55882/60000 (93.1%)\n",
      "\n",
      "\n",
      "Test set: Average loss: 0.0459, Accuracy: 9858/10000 (98.580%)\n",
      "\n",
      "Train Epoch: 2 [0/60000 (0%)]\tLoss: 0.077009\n",
      "Train Epoch: 2 [6400/60000 (11%)]\tLoss: 0.064219\n",
      "Train Epoch: 2 [12800/60000 (21%)]\tLoss: 0.254013\n",
      "Train Epoch: 2 [19200/60000 (32%)]\tLoss: 0.160232\n",
      "Train Epoch: 2 [25600/60000 (43%)]\tLoss: 0.021657\n",
      "Train Epoch: 2 [32000/60000 (53%)]\tLoss: 0.008737\n",
      "Train Epoch: 2 [38400/60000 (64%)]\tLoss: 0.057428\n",
      "Train Epoch: 2 [44800/60000 (75%)]\tLoss: 0.033386\n",
      "Train Epoch: 2 [51200/60000 (85%)]\tLoss: 0.075624\n",
      "Train Epoch: 2 [57600/60000 (96%)]\tLoss: 0.043634\n",
      "\n",
      "Train set: Average loss: 0.0097, Accuracy: 58356/60000 (97.3%)\n",
      "\n",
      "\n",
      "Test set: Average loss: 0.0387, Accuracy: 9868/10000 (98.680%)\n",
      "\n",
      "Train Epoch: 3 [0/60000 (0%)]\tLoss: 0.031665\n",
      "Train Epoch: 3 [6400/60000 (11%)]\tLoss: 0.198387\n",
      "Train Epoch: 3 [12800/60000 (21%)]\tLoss: 0.081477\n",
      "Train Epoch: 3 [19200/60000 (32%)]\tLoss: 0.040317\n",
      "Train Epoch: 3 [25600/60000 (43%)]\tLoss: 0.093623\n",
      "Train Epoch: 3 [32000/60000 (53%)]\tLoss: 0.045766\n",
      "Train Epoch: 3 [38400/60000 (64%)]\tLoss: 0.049511\n",
      "Train Epoch: 3 [44800/60000 (75%)]\tLoss: 0.030525\n",
      "Train Epoch: 3 [51200/60000 (85%)]\tLoss: 0.025921\n",
      "Train Epoch: 3 [57600/60000 (96%)]\tLoss: 0.038443\n",
      "\n",
      "Train set: Average loss: 0.1272, Accuracy: 58771/60000 (98.0%)\n",
      "\n",
      "\n",
      "Test set: Average loss: 0.0319, Accuracy: 9896/10000 (98.960%)\n",
      "\n",
      "Train Epoch: 4 [0/60000 (0%)]\tLoss: 0.176521\n",
      "Train Epoch: 4 [6400/60000 (11%)]\tLoss: 0.020399\n",
      "Train Epoch: 4 [12800/60000 (21%)]\tLoss: 0.036530\n",
      "Train Epoch: 4 [19200/60000 (32%)]\tLoss: 0.056383\n",
      "Train Epoch: 4 [25600/60000 (43%)]\tLoss: 0.004135\n",
      "Train Epoch: 4 [32000/60000 (53%)]\tLoss: 0.006609\n",
      "Train Epoch: 4 [38400/60000 (64%)]\tLoss: 0.019381\n",
      "Train Epoch: 4 [44800/60000 (75%)]\tLoss: 0.070958\n",
      "Train Epoch: 4 [51200/60000 (85%)]\tLoss: 0.036060\n",
      "Train Epoch: 4 [57600/60000 (96%)]\tLoss: 0.031473\n",
      "\n",
      "Train set: Average loss: 0.0549, Accuracy: 58929/60000 (98.2%)\n",
      "\n",
      "\n",
      "Test set: Average loss: 0.0272, Accuracy: 9905/10000 (99.050%)\n",
      "\n",
      "Train Epoch: 5 [0/60000 (0%)]\tLoss: 0.088848\n",
      "Train Epoch: 5 [6400/60000 (11%)]\tLoss: 0.038549\n",
      "Train Epoch: 5 [12800/60000 (21%)]\tLoss: 0.184776\n",
      "Train Epoch: 5 [19200/60000 (32%)]\tLoss: 0.025542\n",
      "Train Epoch: 5 [25600/60000 (43%)]\tLoss: 0.099927\n",
      "Train Epoch: 5 [32000/60000 (53%)]\tLoss: 0.002603\n",
      "Train Epoch: 5 [38400/60000 (64%)]\tLoss: 0.005748\n",
      "Train Epoch: 5 [44800/60000 (75%)]\tLoss: 0.013951\n",
      "Train Epoch: 5 [51200/60000 (85%)]\tLoss: 0.014501\n",
      "Train Epoch: 5 [57600/60000 (96%)]\tLoss: 0.003964\n",
      "\n",
      "Train set: Average loss: 0.0808, Accuracy: 59066/60000 (98.4%)\n",
      "\n",
      "\n",
      "Test set: Average loss: 0.0236, Accuracy: 9929/10000 (99.290%)\n",
      "\n"
     ]
    }
   ],
   "source": [
    "epochs = 5\n",
    "for epoch in range(1, epochs + 1):\n",
    "    train(cnn, dl_train, optimizer, epoch, log_interval=100)\n",
    "    test(cnn, dl_test)"
   ]
  },
  {
   "cell_type": "markdown",
   "metadata": {},
   "source": [
    "This will probably take a bit longer to train, as a convolutional network is not very efficient on a CPU. The current settings should get you around **99%** accuracy. Nice! \n",
    "Again, you should try different hyperparameters and see how far you can push the performance."
   ]
  },
  {
   "cell_type": "markdown",
   "metadata": {},
   "source": [
    "### Inline Question\n",
    "\n",
    "If your model weight is randomly initalized, and no training is done as above. What accuracy do you think the model will get for a 10-class classification task in theory?\n",
    "\n",
    "**Your answer**: If my model's weights are randomly initialized, and no training has been performed, the model will essentially be making random predictions. For a 10-class classification task, it means that the model will achieve an accuracy close to chance, which is approximately 10% in theory. Each class will have an equal probability of being predicted, resulting in an expected accuracy of 10%\n"
   ]
  },
  {
   "cell_type": "markdown",
   "metadata": {},
   "source": [
    "## Training on CIFAR10\n",
    "\n",
    "Now we are going to move to something more challenging - CIFAR10. We can reuse most of the code above. Thankfully, CIFAR is also a popular dataset, so we can again make use of a PyTorch convience function."
   ]
  },
  {
   "cell_type": "code",
   "execution_count": 30,
   "metadata": {},
   "outputs": [
    {
     "name": "stdout",
     "output_type": "stream",
     "text": [
      "Downloading https://www.cs.toronto.edu/~kriz/cifar-10-python.tar.gz to ./data/cifar-10-python.tar.gz\n"
     ]
    },
    {
     "data": {
      "application/vnd.jupyter.widget-view+json": {
       "model_id": "de8d4779419a4bb987092626c44b7927",
       "version_major": 2,
       "version_minor": 0
      },
      "text/plain": [
       "  0%|          | 0/170498071 [00:00<?, ?it/s]"
      ]
     },
     "metadata": {},
     "output_type": "display_data"
    },
    {
     "name": "stdout",
     "output_type": "stream",
     "text": [
      "Extracting ./data/cifar-10-python.tar.gz to ./data\n"
     ]
    }
   ],
   "source": [
    "ds_train = datasets.CIFAR10(root='./data', train=True, download=True)"
   ]
  },
  {
   "cell_type": "markdown",
   "metadata": {},
   "source": [
    "This dataset is not normalized yet, so we need to calculate the normalization constants."
   ]
  },
  {
   "cell_type": "code",
   "execution_count": 31,
   "metadata": {},
   "outputs": [],
   "source": [
    "ims_train = torch.tensor(ds_train.data)\n",
    "ims_train = ims_train.float() / 255."
   ]
  },
  {
   "cell_type": "code",
   "execution_count": 32,
   "metadata": {},
   "outputs": [
    {
     "data": {
      "text/plain": [
       "tensor([0.2470, 0.2435, 0.2616])"
      ]
     },
     "execution_count": 32,
     "metadata": {},
     "output_type": "execute_result"
    }
   ],
   "source": [
    "ims_train.std((0,1,2))"
   ]
  },
  {
   "cell_type": "code",
   "execution_count": 35,
   "metadata": {},
   "outputs": [
    {
     "name": "stdout",
     "output_type": "stream",
     "text": [
      "Channel Means: tensor([0.4914, 0.4822, 0.4465])\n",
      "Channel Standard Deviations: tensor([0.2470, 0.2435, 0.2616])\n"
     ]
    }
   ],
   "source": [
    "#########################################################################\n",
    "# TODO: calculate the mean and std of CIFAR\n",
    "# hint: We want the mean and std of the channel dimension, these should\n",
    "# be 3 dimensional\n",
    "#########################################################################\n",
    "channel_means = ims_train.mean((0, 1, 2))  # Compute mean for each channel\n",
    "channel_stds = ims_train.std((0, 1, 2))    # Compute std for each channel\n",
    "print(\"Channel Means:\", channel_means)\n",
    "print(\"Channel Standard Deviations:\", channel_stds)\n",
    "\n"
   ]
  },
  {
   "cell_type": "code",
   "execution_count": 34,
   "metadata": {},
   "outputs": [
    {
     "data": {
      "text/plain": [
       "tensor([0.4914, 0.4822, 0.4465])"
      ]
     },
     "execution_count": 34,
     "metadata": {},
     "output_type": "execute_result"
    }
   ],
   "source": [
    "torch.mean(ims_train, dim=(0,1,2))"
   ]
  },
  {
   "cell_type": "markdown",
   "metadata": {},
   "source": [
    "For CIFAR we want to make use of data augmentation to improve generalization. You will find all data augmentations data are included in torchvision here:\n",
    "\n",
    "https://pytorch.org/docs/stable/torchvision/transforms.html"
   ]
  },
  {
   "cell_type": "code",
   "execution_count": 36,
   "metadata": {},
   "outputs": [
    {
     "name": "stdout",
     "output_type": "stream",
     "text": [
      "Files already downloaded and verified\n",
      "Files already downloaded and verified\n"
     ]
    }
   ],
   "source": [
    "BATCH_SIZE = 128\n",
    "NUM_WORKERS = 4 # if you encounter some unexpected errors in data loading, try setting `NUM_WORKERS = 0`\n",
    "#########################################################################\n",
    "# TODO: Implement the proper transforms for the training and test dataloaders. \n",
    "# Then build train and test dataloaders with batch size 128 and 4 workers\n",
    "#\n",
    "# Train: \n",
    "# - Apply a random crop with size 32 on a padded version of the image with P=4\n",
    "# - Flip the image horizontally with a probability of 40 %\n",
    "# - Transform to a Tensor\n",
    "# - Normalize with the constants calculated above\n",
    "# Test: \n",
    "# - Transform to a Tensor\n",
    "# - Normalize with the constants calculated above\n",
    "#########################################################################\n",
    "transform_train = transforms.Compose([\n",
    "    transforms.RandomCrop(32, padding=4),\n",
    "    transforms.RandomHorizontalFlip(p=0.4),\n",
    "    transforms.ToTensor(),\n",
    "    transforms.Normalize(mean=channel_means, std=channel_stds)\n",
    "])\n",
    "\n",
    "transform_test = transforms.Compose([\n",
    "    transforms.ToTensor(),\n",
    "    transforms.Normalize(mean=channel_means, std=channel_stds)\n",
    "])\n",
    "\n",
    "ds_train = datasets.CIFAR10('./data', train=True, download=True, transform=transform_train)\n",
    "ds_test = datasets.CIFAR10('./data', train=False, download=True, transform=transform_test)\n",
    "\n",
    "dl_train = DataLoader(ds_train, batch_size=BATCH_SIZE, shuffle=True, num_workers=NUM_WORKERS)\n",
    "dl_test = DataLoader(ds_test, batch_size=BATCH_SIZE, shuffle=False, num_workers=NUM_WORKERS)"
   ]
  },
  {
   "cell_type": "markdown",
   "metadata": {},
   "source": [
    "Setting up the  optimizer, this time we use SGD. The scheduler adapts the learning rate during traing (you can ignore it)"
   ]
  },
  {
   "cell_type": "code",
   "execution_count": 37,
   "metadata": {},
   "outputs": [],
   "source": [
    "cnn = CNN()\n",
    "optimizer = optim.SGD(cnn.parameters(), lr=0.1, momentum=0.9, weight_decay=5e-4)\n",
    "scheduler = torch.optim.lr_scheduler.CosineAnnealingLR(optimizer, T_max=200)"
   ]
  },
  {
   "cell_type": "code",
   "execution_count": 38,
   "metadata": {
    "scrolled": true
   },
   "outputs": [
    {
     "ename": "RuntimeError",
     "evalue": "Given groups=1, weight of size [32, 1, 3, 3], expected input[128, 3, 32, 32] to have 1 channels, but got 3 channels instead",
     "output_type": "error",
     "traceback": [
      "\u001b[0;31m---------------------------------------------------------------------------\u001b[0m",
      "\u001b[0;31mRuntimeError\u001b[0m                              Traceback (most recent call last)",
      "\u001b[1;32m/Users/igor/Desktop/Computer Vision/Exercises/Assignment 2/code/image_classification.ipynb Cella 54\u001b[0m line \u001b[0;36m3\n\u001b[1;32m      <a href='vscode-notebook-cell:/Users/igor/Desktop/Computer%20Vision/Exercises/Assignment%202/code/image_classification.ipynb#Y104sZmlsZQ%3D%3D?line=0'>1</a>\u001b[0m epochs \u001b[39m=\u001b[39m \u001b[39m5\u001b[39m\n\u001b[1;32m      <a href='vscode-notebook-cell:/Users/igor/Desktop/Computer%20Vision/Exercises/Assignment%202/code/image_classification.ipynb#Y104sZmlsZQ%3D%3D?line=1'>2</a>\u001b[0m \u001b[39mfor\u001b[39;00m epoch \u001b[39min\u001b[39;00m \u001b[39mrange\u001b[39m(\u001b[39m1\u001b[39m, epochs \u001b[39m+\u001b[39m \u001b[39m1\u001b[39m):\n\u001b[0;32m----> <a href='vscode-notebook-cell:/Users/igor/Desktop/Computer%20Vision/Exercises/Assignment%202/code/image_classification.ipynb#Y104sZmlsZQ%3D%3D?line=2'>3</a>\u001b[0m     train(cnn, dl_train, optimizer, epoch, log_interval\u001b[39m=\u001b[39;49m\u001b[39m100\u001b[39;49m)\n\u001b[1;32m      <a href='vscode-notebook-cell:/Users/igor/Desktop/Computer%20Vision/Exercises/Assignment%202/code/image_classification.ipynb#Y104sZmlsZQ%3D%3D?line=3'>4</a>\u001b[0m     test(cnn, dl_test)    \n\u001b[1;32m      <a href='vscode-notebook-cell:/Users/igor/Desktop/Computer%20Vision/Exercises/Assignment%202/code/image_classification.ipynb#Y104sZmlsZQ%3D%3D?line=4'>5</a>\u001b[0m     scheduler\u001b[39m.\u001b[39mstep()\n",
      "\u001b[1;32m/Users/igor/Desktop/Computer Vision/Exercises/Assignment 2/code/image_classification.ipynb Cella 54\u001b[0m line \u001b[0;36m2\n\u001b[1;32m     <a href='vscode-notebook-cell:/Users/igor/Desktop/Computer%20Vision/Exercises/Assignment%202/code/image_classification.ipynb#Y104sZmlsZQ%3D%3D?line=15'>16</a>\u001b[0m optimizer\u001b[39m.\u001b[39mzero_grad()         \n\u001b[1;32m     <a href='vscode-notebook-cell:/Users/igor/Desktop/Computer%20Vision/Exercises/Assignment%202/code/image_classification.ipynb#Y104sZmlsZQ%3D%3D?line=17'>18</a>\u001b[0m \u001b[39m##### implement this part #####\u001b[39;00m\n\u001b[1;32m     <a href='vscode-notebook-cell:/Users/igor/Desktop/Computer%20Vision/Exercises/Assignment%202/code/image_classification.ipynb#Y104sZmlsZQ%3D%3D?line=18'>19</a>\u001b[0m \u001b[39m# Forward pass\u001b[39;00m\n\u001b[0;32m---> <a href='vscode-notebook-cell:/Users/igor/Desktop/Computer%20Vision/Exercises/Assignment%202/code/image_classification.ipynb#Y104sZmlsZQ%3D%3D?line=19'>20</a>\u001b[0m output \u001b[39m=\u001b[39m model(data)\n\u001b[1;32m     <a href='vscode-notebook-cell:/Users/igor/Desktop/Computer%20Vision/Exercises/Assignment%202/code/image_classification.ipynb#Y104sZmlsZQ%3D%3D?line=21'>22</a>\u001b[0m \u001b[39m# Compute the cross-entropy loss\u001b[39;00m\n\u001b[1;32m     <a href='vscode-notebook-cell:/Users/igor/Desktop/Computer%20Vision/Exercises/Assignment%202/code/image_classification.ipynb#Y104sZmlsZQ%3D%3D?line=22'>23</a>\u001b[0m loss \u001b[39m=\u001b[39m F\u001b[39m.\u001b[39mcross_entropy(output, target)\n",
      "File \u001b[0;32m~/opt/miniconda3/envs/dl4cv/lib/python3.9/site-packages/torch/nn/modules/module.py:1051\u001b[0m, in \u001b[0;36mModule._call_impl\u001b[0;34m(self, *input, **kwargs)\u001b[0m\n\u001b[1;32m   1047\u001b[0m \u001b[39m# If we don't have any hooks, we want to skip the rest of the logic in\u001b[39;00m\n\u001b[1;32m   1048\u001b[0m \u001b[39m# this function, and just call forward.\u001b[39;00m\n\u001b[1;32m   1049\u001b[0m \u001b[39mif\u001b[39;00m \u001b[39mnot\u001b[39;00m (\u001b[39mself\u001b[39m\u001b[39m.\u001b[39m_backward_hooks \u001b[39mor\u001b[39;00m \u001b[39mself\u001b[39m\u001b[39m.\u001b[39m_forward_hooks \u001b[39mor\u001b[39;00m \u001b[39mself\u001b[39m\u001b[39m.\u001b[39m_forward_pre_hooks \u001b[39mor\u001b[39;00m _global_backward_hooks\n\u001b[1;32m   1050\u001b[0m         \u001b[39mor\u001b[39;00m _global_forward_hooks \u001b[39mor\u001b[39;00m _global_forward_pre_hooks):\n\u001b[0;32m-> 1051\u001b[0m     \u001b[39mreturn\u001b[39;00m forward_call(\u001b[39m*\u001b[39;49m\u001b[39minput\u001b[39;49m, \u001b[39m*\u001b[39;49m\u001b[39m*\u001b[39;49mkwargs)\n\u001b[1;32m   1052\u001b[0m \u001b[39m# Do not call functions when jit is used\u001b[39;00m\n\u001b[1;32m   1053\u001b[0m full_backward_hooks, non_full_backward_hooks \u001b[39m=\u001b[39m [], []\n",
      "\u001b[1;32m/Users/igor/Desktop/Computer Vision/Exercises/Assignment 2/code/image_classification.ipynb Cella 54\u001b[0m line \u001b[0;36m2\n\u001b[1;32m     <a href='vscode-notebook-cell:/Users/igor/Desktop/Computer%20Vision/Exercises/Assignment%202/code/image_classification.ipynb#Y104sZmlsZQ%3D%3D?line=20'>21</a>\u001b[0m \u001b[39mdef\u001b[39;00m \u001b[39mforward\u001b[39m(\u001b[39mself\u001b[39m, x):\n\u001b[1;32m     <a href='vscode-notebook-cell:/Users/igor/Desktop/Computer%20Vision/Exercises/Assignment%202/code/image_classification.ipynb#Y104sZmlsZQ%3D%3D?line=21'>22</a>\u001b[0m     \u001b[39m# Convolutional layers\u001b[39;00m\n\u001b[0;32m---> <a href='vscode-notebook-cell:/Users/igor/Desktop/Computer%20Vision/Exercises/Assignment%202/code/image_classification.ipynb#Y104sZmlsZQ%3D%3D?line=22'>23</a>\u001b[0m     x \u001b[39m=\u001b[39m F\u001b[39m.\u001b[39mrelu(\u001b[39mself\u001b[39;49m\u001b[39m.\u001b[39;49mconv1(x))\n\u001b[1;32m     <a href='vscode-notebook-cell:/Users/igor/Desktop/Computer%20Vision/Exercises/Assignment%202/code/image_classification.ipynb#Y104sZmlsZQ%3D%3D?line=23'>24</a>\u001b[0m     x \u001b[39m=\u001b[39m \u001b[39mself\u001b[39m\u001b[39m.\u001b[39mpool(x)\n\u001b[1;32m     <a href='vscode-notebook-cell:/Users/igor/Desktop/Computer%20Vision/Exercises/Assignment%202/code/image_classification.ipynb#Y104sZmlsZQ%3D%3D?line=24'>25</a>\u001b[0m     x \u001b[39m=\u001b[39m F\u001b[39m.\u001b[39mrelu(\u001b[39mself\u001b[39m\u001b[39m.\u001b[39mconv2(x))\n",
      "File \u001b[0;32m~/opt/miniconda3/envs/dl4cv/lib/python3.9/site-packages/torch/nn/modules/module.py:1051\u001b[0m, in \u001b[0;36mModule._call_impl\u001b[0;34m(self, *input, **kwargs)\u001b[0m\n\u001b[1;32m   1047\u001b[0m \u001b[39m# If we don't have any hooks, we want to skip the rest of the logic in\u001b[39;00m\n\u001b[1;32m   1048\u001b[0m \u001b[39m# this function, and just call forward.\u001b[39;00m\n\u001b[1;32m   1049\u001b[0m \u001b[39mif\u001b[39;00m \u001b[39mnot\u001b[39;00m (\u001b[39mself\u001b[39m\u001b[39m.\u001b[39m_backward_hooks \u001b[39mor\u001b[39;00m \u001b[39mself\u001b[39m\u001b[39m.\u001b[39m_forward_hooks \u001b[39mor\u001b[39;00m \u001b[39mself\u001b[39m\u001b[39m.\u001b[39m_forward_pre_hooks \u001b[39mor\u001b[39;00m _global_backward_hooks\n\u001b[1;32m   1050\u001b[0m         \u001b[39mor\u001b[39;00m _global_forward_hooks \u001b[39mor\u001b[39;00m _global_forward_pre_hooks):\n\u001b[0;32m-> 1051\u001b[0m     \u001b[39mreturn\u001b[39;00m forward_call(\u001b[39m*\u001b[39;49m\u001b[39minput\u001b[39;49m, \u001b[39m*\u001b[39;49m\u001b[39m*\u001b[39;49mkwargs)\n\u001b[1;32m   1052\u001b[0m \u001b[39m# Do not call functions when jit is used\u001b[39;00m\n\u001b[1;32m   1053\u001b[0m full_backward_hooks, non_full_backward_hooks \u001b[39m=\u001b[39m [], []\n",
      "File \u001b[0;32m~/opt/miniconda3/envs/dl4cv/lib/python3.9/site-packages/torch/nn/modules/conv.py:443\u001b[0m, in \u001b[0;36mConv2d.forward\u001b[0;34m(self, input)\u001b[0m\n\u001b[1;32m    442\u001b[0m \u001b[39mdef\u001b[39;00m \u001b[39mforward\u001b[39m(\u001b[39mself\u001b[39m, \u001b[39minput\u001b[39m: Tensor) \u001b[39m-\u001b[39m\u001b[39m>\u001b[39m Tensor:\n\u001b[0;32m--> 443\u001b[0m     \u001b[39mreturn\u001b[39;00m \u001b[39mself\u001b[39;49m\u001b[39m.\u001b[39;49m_conv_forward(\u001b[39minput\u001b[39;49m, \u001b[39mself\u001b[39;49m\u001b[39m.\u001b[39;49mweight, \u001b[39mself\u001b[39;49m\u001b[39m.\u001b[39;49mbias)\n",
      "File \u001b[0;32m~/opt/miniconda3/envs/dl4cv/lib/python3.9/site-packages/torch/nn/modules/conv.py:439\u001b[0m, in \u001b[0;36mConv2d._conv_forward\u001b[0;34m(self, input, weight, bias)\u001b[0m\n\u001b[1;32m    435\u001b[0m \u001b[39mif\u001b[39;00m \u001b[39mself\u001b[39m\u001b[39m.\u001b[39mpadding_mode \u001b[39m!=\u001b[39m \u001b[39m'\u001b[39m\u001b[39mzeros\u001b[39m\u001b[39m'\u001b[39m:\n\u001b[1;32m    436\u001b[0m     \u001b[39mreturn\u001b[39;00m F\u001b[39m.\u001b[39mconv2d(F\u001b[39m.\u001b[39mpad(\u001b[39minput\u001b[39m, \u001b[39mself\u001b[39m\u001b[39m.\u001b[39m_reversed_padding_repeated_twice, mode\u001b[39m=\u001b[39m\u001b[39mself\u001b[39m\u001b[39m.\u001b[39mpadding_mode),\n\u001b[1;32m    437\u001b[0m                     weight, bias, \u001b[39mself\u001b[39m\u001b[39m.\u001b[39mstride,\n\u001b[1;32m    438\u001b[0m                     _pair(\u001b[39m0\u001b[39m), \u001b[39mself\u001b[39m\u001b[39m.\u001b[39mdilation, \u001b[39mself\u001b[39m\u001b[39m.\u001b[39mgroups)\n\u001b[0;32m--> 439\u001b[0m \u001b[39mreturn\u001b[39;00m F\u001b[39m.\u001b[39;49mconv2d(\u001b[39minput\u001b[39;49m, weight, bias, \u001b[39mself\u001b[39;49m\u001b[39m.\u001b[39;49mstride,\n\u001b[1;32m    440\u001b[0m                 \u001b[39mself\u001b[39;49m\u001b[39m.\u001b[39;49mpadding, \u001b[39mself\u001b[39;49m\u001b[39m.\u001b[39;49mdilation, \u001b[39mself\u001b[39;49m\u001b[39m.\u001b[39;49mgroups)\n",
      "\u001b[0;31mRuntimeError\u001b[0m: Given groups=1, weight of size [32, 1, 3, 3], expected input[128, 3, 32, 32] to have 1 channels, but got 3 channels instead"
     ]
    }
   ],
   "source": [
    "epochs = 5\n",
    "for epoch in range(1, epochs + 1):\n",
    "    train(cnn, dl_train, optimizer, epoch, log_interval=100)\n",
    "    test(cnn, dl_test)    \n",
    "    scheduler.step()"
   ]
  },
  {
   "cell_type": "markdown",
   "metadata": {},
   "source": [
    "This will not work. You should see the following error message\n",
    "\n",
    "```\n",
    "Given groups=1, weight of size [32, 1, 3, 3], expected input[128, 3, 32, 32] to have 1 channels, but got 3 channels instead\n",
    "```\n",
    "\n",
    "This error is telling us that something is not right in the definition of our model. Copy the CNN class from above and make changes, so the training works."
   ]
  },
  {
   "cell_type": "code",
   "execution_count": 44,
   "metadata": {},
   "outputs": [],
   "source": [
    "#########################################################################\n",
    "# TODO: Adapt the definition from the CNN class above to work on CIFAR.\n",
    "# You can copy and run the following prompt for evaluation:\n",
    "# CNN()(torch.randn(1,3,32,32)).shape\n",
    "# It should print 'torch.Size([1, 10])'\n",
    "# Hint: You need to change 2 things. \n",
    "#########################################################################\n",
    "\n",
    "class CNN(nn.Module):\n",
    "    def __init__(self):\n",
    "        super(CNN, self).__init__()\n",
    "        # Define the layers\n",
    "        self.conv1 = nn.Conv2d(3, 32, kernel_size=3, stride=1, padding=1)  # Adjusted for 3 input channels\n",
    "        self.conv2 = nn.Conv2d(32, 64, kernel_size=3, stride=1, padding=1)  # Adjusted for 3 input channels\n",
    "        self.pool = nn.MaxPool2d(kernel_size=2, stride=2)\n",
    "        self.fc1 = nn.Linear(64 * 8 * 8, 128)  # Adjusted for the new spatial dimensions\n",
    "        self.fc2 = nn.Linear(128, 10)\n",
    "\n",
    "        # Define dropout layers\n",
    "        self.dropout1 = nn.Dropout(0.25)\n",
    "        self.dropout2 = nn.Dropout(0.5)\n",
    "\n",
    "    def forward(self, x):\n",
    "        # Convolutional layers\n",
    "        x = F.relu(self.conv1(x))\n",
    "        x = self.pool(x)\n",
    "        x = F.relu(self.conv2(x))\n",
    "        x = self.pool(x)\n",
    "        x = x.view(-1, 64 * 8 * 8)  # Adjusted for the new spatial dimensions\n",
    "        x = self.dropout1(x)\n",
    "\n",
    "        # Fully connected layers\n",
    "        x = F.relu(self.fc1(x))\n",
    "        x = self.dropout2(x)\n",
    "        x = self.fc2(x)\n",
    "\n",
    "        return x"
   ]
  },
  {
   "cell_type": "markdown",
   "metadata": {},
   "source": [
    "Let's try again"
   ]
  },
  {
   "cell_type": "code",
   "execution_count": 45,
   "metadata": {
    "scrolled": true
   },
   "outputs": [
    {
     "name": "stdout",
     "output_type": "stream",
     "text": [
      "Train Epoch: 1 [0/50000 (0%)]\tLoss: 2.312582\n",
      "Train Epoch: 1 [12800/50000 (26%)]\tLoss: 2.373853\n",
      "Train Epoch: 1 [25600/50000 (51%)]\tLoss: 1.902842\n",
      "Train Epoch: 1 [38400/50000 (77%)]\tLoss: 1.928636\n",
      "\n",
      "Train set: Average loss: 1.6629, Accuracy: 13048/50000 (26.1%)\n",
      "\n",
      "\n",
      "Test set: Average loss: 1.6684, Accuracy: 3763/10000 (37.630%)\n",
      "\n",
      "Train Epoch: 2 [0/50000 (0%)]\tLoss: 1.849273\n",
      "Train Epoch: 2 [12800/50000 (26%)]\tLoss: 1.940635\n",
      "Train Epoch: 2 [25600/50000 (51%)]\tLoss: 1.765598\n",
      "Train Epoch: 2 [38400/50000 (77%)]\tLoss: 1.834509\n",
      "\n",
      "Train set: Average loss: 1.9587, Accuracy: 15692/50000 (31.4%)\n",
      "\n",
      "\n",
      "Test set: Average loss: 1.7117, Accuracy: 3634/10000 (36.340%)\n",
      "\n",
      "Train Epoch: 3 [0/50000 (0%)]\tLoss: 1.922110\n",
      "Train Epoch: 3 [12800/50000 (26%)]\tLoss: 1.794463\n",
      "Train Epoch: 3 [25600/50000 (51%)]\tLoss: 1.594913\n",
      "Train Epoch: 3 [38400/50000 (77%)]\tLoss: 1.893338\n",
      "\n",
      "Train set: Average loss: 1.5985, Accuracy: 17143/50000 (34.3%)\n",
      "\n",
      "\n",
      "Test set: Average loss: 1.5216, Accuracy: 4341/10000 (43.410%)\n",
      "\n",
      "Train Epoch: 4 [0/50000 (0%)]\tLoss: 1.759549\n",
      "Train Epoch: 4 [12800/50000 (26%)]\tLoss: 1.663615\n",
      "Train Epoch: 4 [25600/50000 (51%)]\tLoss: 1.553298\n",
      "Train Epoch: 4 [38400/50000 (77%)]\tLoss: 1.744092\n",
      "\n",
      "Train set: Average loss: 1.5260, Accuracy: 17806/50000 (35.6%)\n",
      "\n",
      "\n",
      "Test set: Average loss: 1.5977, Accuracy: 4302/10000 (43.020%)\n",
      "\n",
      "Train Epoch: 5 [0/50000 (0%)]\tLoss: 1.735659\n",
      "Train Epoch: 5 [12800/50000 (26%)]\tLoss: 1.917145\n",
      "Train Epoch: 5 [25600/50000 (51%)]\tLoss: 1.728802\n",
      "Train Epoch: 5 [38400/50000 (77%)]\tLoss: 1.647894\n",
      "\n",
      "Train set: Average loss: 1.5582, Accuracy: 18587/50000 (37.2%)\n",
      "\n",
      "\n",
      "Test set: Average loss: 1.5090, Accuracy: 4458/10000 (44.580%)\n",
      "\n",
      "Train Epoch: 6 [0/50000 (0%)]\tLoss: 1.704780\n",
      "Train Epoch: 6 [12800/50000 (26%)]\tLoss: 1.958932\n",
      "Train Epoch: 6 [25600/50000 (51%)]\tLoss: 1.556582\n",
      "Train Epoch: 6 [38400/50000 (77%)]\tLoss: 1.778977\n",
      "\n",
      "Train set: Average loss: 1.6594, Accuracy: 18968/50000 (37.9%)\n",
      "\n",
      "\n",
      "Test set: Average loss: 1.4393, Accuracy: 4836/10000 (48.360%)\n",
      "\n",
      "Train Epoch: 7 [0/50000 (0%)]\tLoss: 1.585595\n",
      "Train Epoch: 7 [12800/50000 (26%)]\tLoss: 1.723732\n",
      "Train Epoch: 7 [25600/50000 (51%)]\tLoss: 1.489960\n",
      "Train Epoch: 7 [38400/50000 (77%)]\tLoss: 1.679215\n",
      "\n",
      "Train set: Average loss: 1.4040, Accuracy: 19762/50000 (39.5%)\n",
      "\n",
      "\n",
      "Test set: Average loss: 1.4323, Accuracy: 4700/10000 (47.000%)\n",
      "\n",
      "Train Epoch: 8 [0/50000 (0%)]\tLoss: 1.745108\n",
      "Train Epoch: 8 [12800/50000 (26%)]\tLoss: 1.511994\n",
      "Train Epoch: 8 [25600/50000 (51%)]\tLoss: 1.787584\n",
      "Train Epoch: 8 [38400/50000 (77%)]\tLoss: 1.484196\n",
      "\n",
      "Train set: Average loss: 1.8132, Accuracy: 19880/50000 (39.8%)\n",
      "\n",
      "\n",
      "Test set: Average loss: 1.5018, Accuracy: 4758/10000 (47.580%)\n",
      "\n",
      "Train Epoch: 9 [0/50000 (0%)]\tLoss: 1.722160\n",
      "Train Epoch: 9 [12800/50000 (26%)]\tLoss: 1.626747\n",
      "Train Epoch: 9 [25600/50000 (51%)]\tLoss: 1.667251\n",
      "Train Epoch: 9 [38400/50000 (77%)]\tLoss: 1.660157\n",
      "\n",
      "Train set: Average loss: 1.6656, Accuracy: 20334/50000 (40.7%)\n",
      "\n",
      "\n",
      "Test set: Average loss: 1.3881, Accuracy: 5033/10000 (50.330%)\n",
      "\n",
      "Train Epoch: 10 [0/50000 (0%)]\tLoss: 1.607938\n",
      "Train Epoch: 10 [12800/50000 (26%)]\tLoss: 1.555604\n",
      "Train Epoch: 10 [25600/50000 (51%)]\tLoss: 1.733646\n",
      "Train Epoch: 10 [38400/50000 (77%)]\tLoss: 1.640910\n",
      "\n",
      "Train set: Average loss: 1.5648, Accuracy: 20685/50000 (41.4%)\n",
      "\n",
      "\n",
      "Test set: Average loss: 1.4219, Accuracy: 4779/10000 (47.790%)\n",
      "\n"
     ]
    }
   ],
   "source": [
    "cnn = CNN()\n",
    "optimizer = optim.SGD(cnn.parameters(), lr=0.1, momentum=0.9, weight_decay=5e-4)\n",
    "scheduler = torch.optim.lr_scheduler.CosineAnnealingLR(optimizer, T_max=200)\n",
    "\n",
    "epochs = 10\n",
    "for epoch in range(1, epochs + 1):\n",
    "    train(cnn, dl_train, optimizer, epoch, log_interval=100)\n",
    "    test(cnn, dl_test)    \n",
    "    scheduler.step()"
   ]
  },
  {
   "cell_type": "markdown",
   "metadata": {},
   "source": [
    "This should give 40 - 50 % - and if you are not already on Colab it will give you a stressed out laptop. The performance is a lot better than random, but we can definitely do better."
   ]
  },
  {
   "cell_type": "markdown",
   "metadata": {},
   "source": [
    "### Have fun with GPUs\n",
    "You can already call it a day until this point because we won't grade the rest of the excecise. You can have more fun with the rest :)\n"
   ]
  },
  {
   "cell_type": "markdown",
   "metadata": {},
   "source": [
    "\n",
    "If you didn't already, move to colab. To use a GPU, follow on the collaboratory menu tabs, \"Runtime\" => \"Change runtime type\" and set it to GPU. Then run the same training loop but now on GPU. \n",
    "\n",
    "It as easy as:"
   ]
  },
  {
   "cell_type": "code",
   "execution_count": null,
   "metadata": {},
   "outputs": [],
   "source": [
    "device = 'cuda'\n",
    "if device == 'cuda': torch.backends.cudnn.benchmark = True # additional speed up\n",
    "\n",
    "cnn = CNN()\n",
    "optimizer = optim.SGD(cnn.parameters(), lr=0.1, momentum=0.9, weight_decay=5e-4)\n",
    "scheduler = torch.optim.lr_scheduler.CosineAnnealingLR(optimizer, T_max=200)\n",
    "cnn = cnn.to(device)\n",
    "\n",
    "epochs = 10\n",
    "for epoch in range(1, epochs + 1):\n",
    "    train(cnn, dl_train, optimizer, epoch, log_interval=100, device=device)\n",
    "    test(cnn, dl_test, device=device)    \n",
    "    scheduler.step()"
   ]
  },
  {
   "cell_type": "markdown",
   "metadata": {},
   "source": [
    "This should be way faster now. But the true advantage of the GPU is that we can use much bigger models now and still train them in a reasonable amount of time. PyTorch is again very handy. The torchvision library comes with varies state-of-the-art model architectures, some of which you have seen in the lecture."
   ]
  },
  {
   "cell_type": "code",
   "execution_count": null,
   "metadata": {},
   "outputs": [],
   "source": [
    "from torchvision.models import resnet18"
   ]
  },
  {
   "cell_type": "code",
   "execution_count": null,
   "metadata": {
    "scrolled": true
   },
   "outputs": [],
   "source": [
    "cnn = resnet18()\n",
    "print(cnn)"
   ]
  },
  {
   "cell_type": "markdown",
   "metadata": {},
   "source": [
    "Looks scary! But the only thing you need to change to make it work on CIFAR is the last layer.\n",
    "Currently the last layer is:\n",
    "```\n",
    "  (fc): Linear(in_features=512, out_features=1000, bias=True)\n",
    "```\n",
    "out_features is the number of classes. This models are developed for Imagenet, a dataset with 1000 classes. So this part of the model you need to adapt. Additionally, you need to add a log-softmax layer again, as we us negative log-likelihood as the training criterion. "
   ]
  },
  {
   "cell_type": "code",
   "execution_count": null,
   "metadata": {},
   "outputs": [],
   "source": [
    "#########################################################################\n",
    "# TODO: Adapt the Resnet to work on CIFAR\n",
    "#########################################################################\n"
   ]
  },
  {
   "cell_type": "code",
   "execution_count": null,
   "metadata": {},
   "outputs": [],
   "source": [
    "# This should print 'torch.Size([16, 10])'\n",
    "cnn(torch.randn(16,3,32,32)).shape"
   ]
  },
  {
   "cell_type": "code",
   "execution_count": null,
   "metadata": {},
   "outputs": [],
   "source": [
    "device = 'cuda'\n",
    "if device == 'cuda': torch.backends.cudnn.benchmark = True # this gives us additional speed up\n",
    "\n",
    "optimizer = optim.SGD(cnn.parameters(), lr=0.1, momentum=0.9, weight_decay=5e-4)\n",
    "scheduler = torch.optim.lr_scheduler.CosineAnnealingLR(optimizer, T_max=200)\n",
    "cnn = cnn.to(device)\n",
    "\n",
    "epochs = 50\n",
    "for epoch in range(1, epochs + 1):\n",
    "    train(cnn, dl_train, optimizer, epoch, log_interval=100, device=device)\n",
    "    test(cnn, dl_test, device=device)    \n",
    "    scheduler.step()"
   ]
  },
  {
   "cell_type": "markdown",
   "metadata": {},
   "source": [
    "This should get us well above 75%, the best we got was ~ 80%.\n",
    "\n",
    "Now, use different torchvision architectures, different optimizers (Adam is always a good choice), data augmentation techniques, and hyperparameter search to achieve a test accuracy of >90 %"
   ]
  },
  {
   "cell_type": "code",
   "execution_count": null,
   "metadata": {},
   "outputs": [],
   "source": []
  }
 ],
 "metadata": {
  "kernelspec": {
   "display_name": "Python 3.9.12 ('base')",
   "language": "python",
   "name": "python3"
  },
  "language_info": {
   "codemirror_mode": {
    "name": "ipython",
    "version": 3
   },
   "file_extension": ".py",
   "mimetype": "text/x-python",
   "name": "python",
   "nbconvert_exporter": "python",
   "pygments_lexer": "ipython3",
   "version": "3.9.18"
  },
  "vscode": {
   "interpreter": {
    "hash": "d268b61a0efacafa8645774cb6d0204c9f01d7563ef03f7672146d044e8f345c"
   }
  }
 },
 "nbformat": 4,
 "nbformat_minor": 4
}
