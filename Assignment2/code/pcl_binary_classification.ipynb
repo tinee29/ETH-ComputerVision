{
 "cells": [
  {
   "cell_type": "markdown",
   "metadata": {},
   "source": [
    "# Point Cloud Binary Classification with PyTorch"
   ]
  },
  {
   "cell_type": "markdown",
   "metadata": {},
   "source": [
    "Make sure you are using the `dl4cv` conda environment."
   ]
  },
  {
   "cell_type": "markdown",
   "metadata": {},
   "source": [
    "## Dataset loading and visualization"
   ]
  },
  {
   "cell_type": "markdown",
   "metadata": {},
   "source": [
    "The input X contain 100 2D points, and y are their corresponding labels (0 or 1). The goal is to train a model that can classify every point to its correct label.\n"
   ]
  },
  {
   "cell_type": "code",
   "execution_count": 44,
   "metadata": {},
   "outputs": [
    {
     "data": {
      "image/png": "[encoded data removed]",
      "text/plain": [
       "<Figure size 640x480 with 1 Axes>"
      ]
     },
     "metadata": {},
     "output_type": "display_data"
    },
    {
     "data": {
      "text/plain": [
       "<Figure size 640x480 with 0 Axes>"
      ]
     },
     "metadata": {},
     "output_type": "display_data"
    }
   ],
   "source": [
    "%matplotlib inline\n",
    "import matplotlib.pyplot as plt\n",
    "import numpy as np\n",
    "import torch\n",
    "import torch.nn as nn\n",
    "import torch.nn.functional as F\n",
    "import torch.optim as optim\n",
    "from torch.utils.data import Dataset\n",
    "from torch.utils.data import DataLoader\n",
    "from torch.optim import Adam\n",
    "\n",
    "dataset = np.load('data/2d_pcl_dataset.npz')\n",
    "X, y = dataset['X'], dataset['y']\n",
    "\n",
    "X0 = X[y==0] # 50 2D points have label 0\n",
    "X1 = X[y==1] # 50 2D points have label 1\n",
    "\n",
    "def plot(X0, X1, fit_param=None):\n",
    "    plt.scatter(X0[:,0], X0[:,1], color='red', label=0)\n",
    "    plt.scatter(X1[:,0], X1[:,1], color='blue', label=1)\n",
    "    \n",
    "    plt.xlim([-0.55, 0.55])\n",
    "    plt.ylim([-0.35, 0.25])\n",
    "    plt.legend()\n",
    "    plt.show()\n",
    "    plt.clf()\n",
    "\n",
    "plot(X0, X1)"
   ]
  },
  {
   "cell_type": "markdown",
   "metadata": {},
   "source": [
    "## Logistic Regression for the point cloud classification task\n"
   ]
  },
  {
   "cell_type": "markdown",
   "metadata": {},
   "source": [
    "Starting by filling in the `Simple2DDataset` class below. First, in the class constructore `__init__`, you will need to read the right `2d_pcl_dataset.npz` from disk.\n",
    "\n",
    "Second, in the `__getitem__`, you will need to take a single data point and its label based on its index `idx`"
   ]
  },
  {
   "cell_type": "code",
   "execution_count": 45,
   "metadata": {},
   "outputs": [],
   "source": [
    "class Simple2DDataset(Dataset):\n",
    "    def __init__(self):\n",
    "        super().__init__()\n",
    "        #########################################################################\n",
    "        # TODO: read data from disk using np.load.\n",
    "        # Data is located in the folder \"data\".\n",
    "        # Save samples and labels to class members self.X and self.y respectively.\n",
    "        # samples should be an Nx2 numpy array. Labels should be Nx1.\n",
    "        #########################################################################\n",
    "        dataset = np.load('data/2d_pcl_dataset.npz')\n",
    "        X, y = dataset['X'], dataset['y']\n",
    "        self.X = X\n",
    "        self.y = y\n",
    "     \n",
    "    def __len__(self):\n",
    "        # Returns the number of samples in the dataset.\n",
    "        return self.X.shape[0]\n",
    "    \n",
    "    def __getitem__(self, idx):\n",
    "        #########################################################################\n",
    "        # TODO: return the sample and label with index idx\n",
    "        #########################################################################\n",
    "        point = self.X[idx]\n",
    "        label = self.y[idx]\n",
    "        \n",
    "        # Convert to tensor.\n",
    "        return torch.from_numpy(point).float(), \\\n",
    "               torch.from_numpy(label[np.newaxis]).float()\n"
   ]
  },
  {
   "cell_type": "markdown",
   "metadata": {},
   "source": [
    "With the complete `Simple2DDataset`, we can create a PyTorch dataloader\n",
    "\n",
    "**NOTE**: if you encounter some unexpected errors in data loading, try setting `NUM_WORKERS = 0`"
   ]
  },
  {
   "cell_type": "code",
   "execution_count": 46,
   "metadata": {},
   "outputs": [],
   "source": [
    "BATCH_SIZE = 8\n",
    "NUM_WORKERS = 0\n",
    "\n",
    "# create the dataloader\n",
    "dataset = Simple2DDataset()\n",
    "train_dataloader = DataLoader(\n",
    "    dataset,\n",
    "    batch_size=BATCH_SIZE,\n",
    "    num_workers=NUM_WORKERS,\n",
    "    shuffle=True\n",
    ")"
   ]
  },
  {
   "cell_type": "markdown",
   "metadata": {},
   "source": [
    "Now, define your first network by filling in the `LinearClassifier` class below.\n",
    "\n",
    "Add a single linear layer `nn.Linear` inside the `nn.Sequential` call. The input is 2D, and the output should be a single value, corresponding to the probability of a given 2D point being part of cluster 0."
   ]
  },
  {
   "cell_type": "code",
   "execution_count": 47,
   "metadata": {},
   "outputs": [],
   "source": [
    "class LinearClassifier(nn.Module):\n",
    "    def __init__(self):\n",
    "        super().__init__()\n",
    "\n",
    "        self.codename = 'linear'\n",
    "\n",
    "        #########################################################################\n",
    "        # TODO: add a single linear layer with nn.Linear, inside the `nn.Sequential` call.\n",
    "        # Input is 2D.\n",
    "        # Output is a single value.\n",
    "        #########################################################################\n",
    "        self.model = nn.Sequential(\n",
    "            nn.Linear(2,1)\n",
    "        )\n",
    "        \n",
    "    def forward(self, batch):\n",
    "        # Process batch using the defined model.\n",
    "        x = self.model(batch)\n",
    "        # Final sigmoid activation to obtain a probability between 0 and 1.\n",
    "        return torch.sigmoid(x)"
   ]
  },
  {
   "cell_type": "markdown",
   "metadata": {},
   "source": [
    "Now, you are asked to implement the training loop below"
   ]
  },
  {
   "cell_type": "code",
   "execution_count": 48,
   "metadata": {},
   "outputs": [],
   "source": [
    "def train(net, optimizer, dataloader, epoch):\n",
    "    net.train()\n",
    "    loss_sum = 0\n",
    "    for batch_idx, (point, label) in enumerate(dataloader):\n",
    "        # First we need to zero the gradient, otherwise PyTorch would accumulate them\n",
    "        optimizer.zero_grad()\n",
    "\n",
    "        #########################################################################\n",
    "        #TODO: \n",
    "        # 1. forward pass of the network to obtain the predictions given the batch\n",
    "        # 2. compute the loss using F.binary_cross_entropy\n",
    "        # 3. backward pass on the loss using loss.backward(), and one step \n",
    "        # of gradient descent (optimization) using optimizer.step()\n",
    "        #########################################################################\n",
    "        # 1. Forward pass\n",
    "        predictions = net(point)\n",
    "\n",
    "        # 2. Compute the loss\n",
    "        loss = F.binary_cross_entropy(predictions, label)\n",
    "\n",
    "        # 3. Backward pass and optimization\n",
    "        loss.backward()\n",
    "        optimizer.step()\n",
    "        loss_sum += loss.item()\n",
    "    return loss_sum\n",
    "        "
   ]
  },
  {
   "cell_type": "markdown",
   "metadata": {},
   "source": [
    "You can now run below to train the linear model."
   ]
  },
  {
   "cell_type": "code",
   "execution_count": 49,
   "metadata": {
    "scrolled": true,
    "tags": []
   },
   "outputs": [
    {
     "name": "stdout",
     "output_type": "stream",
     "text": [
      "[Epoch 01] Loss: 7.6415\n",
      "[Epoch 02] Loss: 6.3609\n",
      "[Epoch 03] Loss: 5.5280\n",
      "[Epoch 04] Loss: 5.2378\n",
      "[Epoch 05] Loss: 4.8684\n",
      "[Epoch 06] Loss: 4.5374\n",
      "[Epoch 07] Loss: 4.4422\n",
      "[Epoch 08] Loss: 4.2216\n",
      "[Epoch 09] Loss: 4.1209\n",
      "[Epoch 10] Loss: 4.1897\n",
      "[Epoch 11] Loss: 4.1222\n",
      "[Epoch 12] Loss: 4.0470\n",
      "[Epoch 13] Loss: 3.8605\n",
      "[Epoch 14] Loss: 3.9453\n",
      "[Epoch 15] Loss: 3.6791\n",
      "[Epoch 16] Loss: 3.6847\n",
      "[Epoch 17] Loss: 3.6944\n",
      "[Epoch 18] Loss: 3.7139\n",
      "[Epoch 19] Loss: 3.6797\n",
      "[Epoch 20] Loss: 3.8049\n",
      "[Epoch 21] Loss: 3.6828\n",
      "[Epoch 22] Loss: 3.8720\n",
      "[Epoch 23] Loss: 3.7427\n",
      "[Epoch 24] Loss: 3.5123\n",
      "[Epoch 25] Loss: 3.5505\n",
      "[Epoch 26] Loss: 3.5624\n"
     ]
    },
    {
     "name": "stdout",
     "output_type": "stream",
     "text": [
      "[Epoch 27] Loss: 3.6189\n",
      "[Epoch 28] Loss: 3.5027\n",
      "[Epoch 29] Loss: 3.6088\n",
      "[Epoch 30] Loss: 3.4869\n",
      "[Epoch 31] Loss: 3.6845\n",
      "[Epoch 32] Loss: 3.6558\n",
      "[Epoch 33] Loss: 3.4987\n",
      "[Epoch 34] Loss: 3.4874\n",
      "[Epoch 35] Loss: 3.6129\n",
      "[Epoch 36] Loss: 3.5339\n",
      "[Epoch 37] Loss: 3.4297\n",
      "[Epoch 38] Loss: 3.5426\n",
      "[Epoch 39] Loss: 3.5605\n",
      "[Epoch 40] Loss: 3.4555\n",
      "[Epoch 41] Loss: 3.4672\n",
      "[Epoch 42] Loss: 3.5459\n",
      "[Epoch 43] Loss: 3.5725\n",
      "[Epoch 44] Loss: 3.7382\n",
      "[Epoch 45] Loss: 3.6182\n",
      "[Epoch 46] Loss: 3.4603\n",
      "[Epoch 47] Loss: 3.4900\n",
      "[Epoch 48] Loss: 3.5285\n",
      "[Epoch 49] Loss: 3.4744\n",
      "[Epoch 50] Loss: 3.5191\n",
      "[Epoch 51] Loss: 3.4259\n",
      "[Epoch 52] Loss: 3.5192\n",
      "[Epoch 53] Loss: 3.6723\n",
      "[Epoch 54] Loss: 3.5876\n",
      "[Epoch 55] Loss: 3.4933\n",
      "[Epoch 56] Loss: 3.5420\n",
      "[Epoch 57] Loss: 3.5344\n",
      "[Epoch 58] Loss: 3.6989\n",
      "[Epoch 59] Loss: 3.4840\n",
      "[Epoch 60] Loss: 3.4790\n",
      "[Epoch 61] Loss: 3.4886\n",
      "[Epoch 62] Loss: 3.4740\n",
      "[Epoch 63] Loss: 3.4383\n",
      "[Epoch 64] Loss: 3.4601\n",
      "[Epoch 65] Loss: 3.4950\n",
      "[Epoch 66] Loss: 3.7308\n",
      "[Epoch 67] Loss: 3.8891\n",
      "[Epoch 68] Loss: 3.4306\n",
      "[Epoch 69] Loss: 3.7220\n",
      "[Epoch 70] Loss: 3.6092\n",
      "[Epoch 71] Loss: 3.5200\n",
      "[Epoch 72] Loss: 3.6431\n",
      "[Epoch 73] Loss: 3.5694\n",
      "[Epoch 74] Loss: 3.4863\n",
      "[Epoch 75] Loss: 3.7476\n",
      "[Epoch 76] Loss: 3.6096\n",
      "[Epoch 77] Loss: 3.6638\n",
      "[Epoch 78] Loss: 3.4744\n",
      "[Epoch 79] Loss: 3.6550\n",
      "[Epoch 80] Loss: 3.7955\n",
      "[Epoch 81] Loss: 3.7992\n",
      "[Epoch 82] Loss: 3.5357\n",
      "[Epoch 83] Loss: 3.6444\n",
      "[Epoch 84] Loss: 3.4765\n",
      "[Epoch 85] Loss: 3.7691\n",
      "[Epoch 86] Loss: 3.5171\n",
      "[Epoch 87] Loss: 3.5253\n",
      "[Epoch 88] Loss: 3.7559\n",
      "[Epoch 89] Loss: 3.4560\n",
      "[Epoch 90] Loss: 3.4483\n",
      "[Epoch 91] Loss: 3.5236\n",
      "[Epoch 92] Loss: 3.5239\n",
      "[Epoch 93] Loss: 3.4724\n",
      "[Epoch 94] Loss: 3.4559\n",
      "[Epoch 95] Loss: 3.8451\n",
      "[Epoch 96] Loss: 3.8676\n",
      "[Epoch 97] Loss: 3.4434\n",
      "[Epoch 98] Loss: 3.6468\n",
      "[Epoch 99] Loss: 3.4706\n",
      "[Epoch 100] Loss: 3.4772\n"
     ]
    }
   ],
   "source": [
    "NUM_EPOCHS = 100\n",
    "# create the network.\n",
    "net = LinearClassifier()\n",
    "\n",
    "# create the optimizer.\n",
    "optimizer = Adam(net.parameters(), lr=0.1)\n",
    "\n",
    "best_accuracy = 0\n",
    "for epoch_idx in range(NUM_EPOCHS):\n",
    "    loss = train(net, optimizer, train_dataloader, epoch_idx)\n",
    "    print('[Epoch %02d] Loss: %.4f' % (epoch_idx + 1, loss))"
   ]
  },
  {
   "cell_type": "markdown",
   "metadata": {},
   "source": [
    "Now plot your result below.\n"
   ]
  },
  {
   "cell_type": "code",
   "execution_count": 50,
   "metadata": {},
   "outputs": [
    {
     "data": {
      "image/png": "[encoded data removed]",
      "text/plain": [
       "<Figure size 640x480 with 1 Axes>"
      ]
     },
     "metadata": {},
     "output_type": "display_data"
    },
    {
     "data": {
      "text/plain": [
       "<Figure size 640x480 with 0 Axes>"
      ]
     },
     "metadata": {},
     "output_type": "display_data"
    }
   ],
   "source": [
    "p = np.linspace(-0.5, 0.5, 500)\n",
    "x_plot, y_plot = np.meshgrid(p, p)\n",
    "X_plot = np.stack((x_plot, y_plot), axis=2).reshape(-1, 2)\n",
    "X_plot = torch.from_numpy(X_plot).float()\n",
    "output = net(X_plot)\n",
    "output = output.detach().numpy()\n",
    "output = output.reshape(x_plot.shape[0], x_plot.shape[1])\n",
    "\n",
    "plt.contour(x_plot, y_plot, output, [0.5],\n",
    "                  colors=('k',),\n",
    "                  linewidths=(3,))\n",
    "plot(X0, X1)\n"
   ]
  },
  {
   "cell_type": "markdown",
   "metadata": {},
   "source": [
    "### Implement your first multi-layer perceptron (MLP) for point cloud classification\n",
    "Now you should notice that your logistic regression model cannot classify the point cloud correctly, and this is as expected :)  \n",
    "Therefore, we now ask you to implement an MLP for the same binary classification task."
   ]
  },
  {
   "cell_type": "code",
   "execution_count": 51,
   "metadata": {},
   "outputs": [],
   "source": [
    "# These are the parameters to be used\n",
    "nInput = 2\n",
    "nOutput = 1\n",
    "nHidden = 16\n",
    "act_fn = nn.ReLU()\n",
    "\n",
    "class MLP(nn.Module):\n",
    "    def __init__(self, nInput, nOutput, nHidden, act_fn):\n",
    "        super().__init__()\n",
    "\n",
    "        # Define the network layers in order.\n",
    "        # Input is 2D (nInput).\n",
    "        # Output is a single value (nOutput).\n",
    "        # Multiple linear layers each followed by a ReLU non-linearity (apart from the last).\n",
    "        #########################################################################\n",
    "        # TODO: add a two-layer MLP, inside the `nn.Sequential` call.\n",
    "        # Input is 2D.\n",
    "        # Output is a single value.\n",
    "\n",
    "        # Hint: unlike logistic regression where you need only one nn.Linear layer, \n",
    "        # here you will have two nn.Linear layers. After the first layer, we \n",
    "        # apply a ReLU activation function. The output is then passed to another \n",
    "        # linear layer. Note that you should use `nHidden` below as the hidden dimension \n",
    "        # of your linear layers.\n",
    "        #########################################################################\n",
    "        self.model = nn.Sequential(\n",
    "            nn.Linear(nInput, nHidden),\n",
    "            act_fn,\n",
    "            nn.Linear(nHidden, nOutput)\n",
    "        )\n",
    "        \n",
    "    def forward(self, batch):\n",
    "        # Process batch using the defined model.\n",
    "        x = self.model(batch)\n",
    "        # Final sigmoid activation to obtain a probability.\n",
    "        return torch.sigmoid(x)\n"
   ]
  },
  {
   "cell_type": "markdown",
   "metadata": {},
   "source": [
    "Run below again!"
   ]
  },
  {
   "cell_type": "code",
   "execution_count": 52,
   "metadata": {},
   "outputs": [
    {
     "name": "stdout",
     "output_type": "stream",
     "text": [
      "[Epoch 01] Loss: 7.4527\n",
      "[Epoch 02] Loss: 4.6460\n",
      "[Epoch 03] Loss: 3.5789\n",
      "[Epoch 04] Loss: 3.1703\n",
      "[Epoch 05] Loss: 2.9438\n",
      "[Epoch 06] Loss: 3.4143\n",
      "[Epoch 07] Loss: 2.6287\n",
      "[Epoch 08] Loss: 2.5541\n",
      "[Epoch 09] Loss: 1.7239\n",
      "[Epoch 10] Loss: 1.5720\n",
      "[Epoch 11] Loss: 1.2707\n",
      "[Epoch 12] Loss: 0.9959\n",
      "[Epoch 13] Loss: 0.9250\n",
      "[Epoch 14] Loss: 0.8050\n",
      "[Epoch 15] Loss: 0.6334\n",
      "[Epoch 16] Loss: 0.6174\n",
      "[Epoch 17] Loss: 0.5878\n",
      "[Epoch 18] Loss: 1.4095\n",
      "[Epoch 19] Loss: 0.8141\n",
      "[Epoch 20] Loss: 0.5057\n",
      "[Epoch 21] Loss: 0.3696\n",
      "[Epoch 22] Loss: 0.3729\n",
      "[Epoch 23] Loss: 0.6636\n",
      "[Epoch 24] Loss: 0.5085\n",
      "[Epoch 25] Loss: 0.5455\n",
      "[Epoch 26] Loss: 0.3594\n",
      "[Epoch 27] Loss: 0.2943\n",
      "[Epoch 28] Loss: 0.2277\n",
      "[Epoch 29] Loss: 0.2440\n",
      "[Epoch 30] Loss: 0.1616\n",
      "[Epoch 31] Loss: 0.1475\n",
      "[Epoch 32] Loss: 0.1319\n",
      "[Epoch 33] Loss: 0.1192\n",
      "[Epoch 34] Loss: 0.1243\n",
      "[Epoch 35] Loss: 0.1296\n",
      "[Epoch 36] Loss: 0.1247\n",
      "[Epoch 37] Loss: 0.0942\n",
      "[Epoch 38] Loss: 0.0836\n",
      "[Epoch 39] Loss: 0.1101\n",
      "[Epoch 40] Loss: 0.1199\n",
      "[Epoch 41] Loss: 0.1956\n",
      "[Epoch 42] Loss: 0.0920\n",
      "[Epoch 43] Loss: 0.0664\n",
      "[Epoch 44] Loss: 0.0693\n",
      "[Epoch 45] Loss: 0.0637\n",
      "[Epoch 46] Loss: 0.0593\n",
      "[Epoch 47] Loss: 0.0631\n",
      "[Epoch 48] Loss: 0.0626\n",
      "[Epoch 49] Loss: 0.0501\n",
      "[Epoch 50] Loss: 0.0666\n",
      "[Epoch 51] Loss: 0.0800\n",
      "[Epoch 52] Loss: 0.0741\n",
      "[Epoch 53] Loss: 0.0592\n",
      "[Epoch 54] Loss: 0.0429\n",
      "[Epoch 55] Loss: 0.0449\n",
      "[Epoch 56] Loss: 0.0363\n",
      "[Epoch 57] Loss: 0.0353\n",
      "[Epoch 58] Loss: 0.0385\n",
      "[Epoch 59] Loss: 0.0371\n",
      "[Epoch 60] Loss: 0.0361\n",
      "[Epoch 61] Loss: 0.0333\n",
      "[Epoch 62] Loss: 0.0323\n",
      "[Epoch 63] Loss: 0.0428\n",
      "[Epoch 64] Loss: 0.0359\n",
      "[Epoch 65] Loss: 0.0324\n",
      "[Epoch 66] Loss: 0.0276\n",
      "[Epoch 67] Loss: 0.0267\n",
      "[Epoch 68] Loss: 0.0270\n",
      "[Epoch 69] Loss: 0.0262\n",
      "[Epoch 70] Loss: 0.0263\n",
      "[Epoch 71] Loss: 0.0255\n",
      "[Epoch 72] Loss: 0.0233\n",
      "[Epoch 73] Loss: 0.0234\n",
      "[Epoch 74] Loss: 0.0224\n",
      "[Epoch 75] Loss: 0.0218\n",
      "[Epoch 76] Loss: 0.0212\n",
      "[Epoch 77] Loss: 0.0231\n",
      "[Epoch 78] Loss: 0.0223\n",
      "[Epoch 79] Loss: 0.0229\n",
      "[Epoch 80] Loss: 0.0199\n",
      "[Epoch 81] Loss: 0.0202\n",
      "[Epoch 82] Loss: 0.0184\n",
      "[Epoch 83] Loss: 0.0192\n",
      "[Epoch 84] Loss: 0.0181\n",
      "[Epoch 85] Loss: 0.0189\n",
      "[Epoch 86] Loss: 0.0176\n",
      "[Epoch 87] Loss: 0.0173\n",
      "[Epoch 88] Loss: 0.0163\n",
      "[Epoch 89] Loss: 0.0163\n",
      "[Epoch 90] Loss: 0.0171\n",
      "[Epoch 91] Loss: 0.0155\n",
      "[Epoch 92] Loss: 0.0185\n",
      "[Epoch 93] Loss: 0.0164\n",
      "[Epoch 94] Loss: 0.0172\n",
      "[Epoch 95] Loss: 0.0138\n",
      "[Epoch 96] Loss: 0.0144\n",
      "[Epoch 97] Loss: 0.0180\n",
      "[Epoch 98] Loss: 0.0140\n",
      "[Epoch 99] Loss: 0.0141\n",
      "[Epoch 100] Loss: 0.0129\n",
      "[Epoch 101] Loss: 0.0129\n",
      "[Epoch 102] Loss: 0.0122\n",
      "[Epoch 103] Loss: 0.0121\n",
      "[Epoch 104] Loss: 0.0122\n",
      "[Epoch 105] Loss: 0.0126\n",
      "[Epoch 106] Loss: 0.0118\n",
      "[Epoch 107] Loss: 0.0116\n",
      "[Epoch 108] Loss: 0.0108\n",
      "[Epoch 109] Loss: 0.0105\n",
      "[Epoch 110] Loss: 0.0109\n",
      "[Epoch 111] Loss: 0.0124\n",
      "[Epoch 112] Loss: 0.0104\n",
      "[Epoch 113] Loss: 0.0103\n",
      "[Epoch 114] Loss: 0.0099\n",
      "[Epoch 115] Loss: 0.0100\n",
      "[Epoch 116] Loss: 0.0091\n",
      "[Epoch 117] Loss: 0.0121\n",
      "[Epoch 118] Loss: 0.0115\n",
      "[Epoch 119] Loss: 0.0101\n",
      "[Epoch 120] Loss: 0.0105\n",
      "[Epoch 121] Loss: 0.0091\n",
      "[Epoch 122] Loss: 0.0089\n",
      "[Epoch 123] Loss: 0.0084\n",
      "[Epoch 124] Loss: 0.0085\n",
      "[Epoch 125] Loss: 0.0093\n",
      "[Epoch 126] Loss: 0.0077\n",
      "[Epoch 127] Loss: 0.0082\n",
      "[Epoch 128] Loss: 0.0081\n",
      "[Epoch 129] Loss: 0.0075\n",
      "[Epoch 130] Loss: 0.0073\n",
      "[Epoch 131] Loss: 0.0071\n",
      "[Epoch 132] Loss: 0.0072\n",
      "[Epoch 133] Loss: 0.0075\n",
      "[Epoch 134] Loss: 0.0092\n",
      "[Epoch 135] Loss: 0.0090\n",
      "[Epoch 136] Loss: 0.0093\n",
      "[Epoch 137] Loss: 0.0074\n",
      "[Epoch 138] Loss: 0.0063\n",
      "[Epoch 139] Loss: 0.0069\n",
      "[Epoch 140] Loss: 0.0077\n",
      "[Epoch 141] Loss: 0.0063\n",
      "[Epoch 142] Loss: 0.0065\n",
      "[Epoch 143] Loss: 0.0061\n",
      "[Epoch 144] Loss: 0.0060\n",
      "[Epoch 145] Loss: 0.0059\n",
      "[Epoch 146] Loss: 0.0055\n",
      "[Epoch 147] Loss: 0.0061\n",
      "[Epoch 148] Loss: 0.0055\n",
      "[Epoch 149] Loss: 0.0057\n",
      "[Epoch 150] Loss: 0.0059\n",
      "[Epoch 151] Loss: 0.0069\n",
      "[Epoch 152] Loss: 0.0051\n",
      "[Epoch 153] Loss: 0.0055\n",
      "[Epoch 154] Loss: 0.0051\n",
      "[Epoch 155] Loss: 0.0052\n",
      "[Epoch 156] Loss: 0.0050\n",
      "[Epoch 157] Loss: 0.0052\n",
      "[Epoch 158] Loss: 0.0052\n",
      "[Epoch 159] Loss: 0.0051\n",
      "[Epoch 160] Loss: 0.0051\n",
      "[Epoch 161] Loss: 0.0048\n",
      "[Epoch 162] Loss: 0.0052\n",
      "[Epoch 163] Loss: 0.0046\n",
      "[Epoch 164] Loss: 0.0047\n",
      "[Epoch 165] Loss: 0.0044\n",
      "[Epoch 166] Loss: 0.0045\n",
      "[Epoch 167] Loss: 0.0042\n",
      "[Epoch 168] Loss: 0.0059\n",
      "[Epoch 169] Loss: 0.0048\n",
      "[Epoch 170] Loss: 0.0043\n",
      "[Epoch 171] Loss: 0.0044\n",
      "[Epoch 172] Loss: 0.0044\n",
      "[Epoch 173] Loss: 0.0040\n",
      "[Epoch 174] Loss: 0.0045\n",
      "[Epoch 175] Loss: 0.0037\n",
      "[Epoch 176] Loss: 0.0042\n",
      "[Epoch 177] Loss: 0.0041\n",
      "[Epoch 178] Loss: 0.0045\n",
      "[Epoch 179] Loss: 0.0043\n",
      "[Epoch 180] Loss: 0.0034\n",
      "[Epoch 181] Loss: 0.0041\n",
      "[Epoch 182] Loss: 0.0036\n",
      "[Epoch 183] Loss: 0.0033\n",
      "[Epoch 184] Loss: 0.0041\n",
      "[Epoch 185] Loss: 0.0036\n",
      "[Epoch 186] Loss: 0.0037\n",
      "[Epoch 187] Loss: 0.0034\n",
      "[Epoch 188] Loss: 0.0034\n",
      "[Epoch 189] Loss: 0.0035\n",
      "[Epoch 190] Loss: 0.0031\n",
      "[Epoch 191] Loss: 0.0031\n",
      "[Epoch 192] Loss: 0.0031\n",
      "[Epoch 193] Loss: 0.0032\n",
      "[Epoch 194] Loss: 0.0031\n",
      "[Epoch 195] Loss: 0.0030\n",
      "[Epoch 196] Loss: 0.0030\n",
      "[Epoch 197] Loss: 0.0028\n",
      "[Epoch 198] Loss: 0.0031\n",
      "[Epoch 199] Loss: 0.0029\n",
      "[Epoch 200] Loss: 0.0029\n"
     ]
    }
   ],
   "source": [
    "NUM_EPOCHS = 200\n",
    "\n",
    "# create the network.\n",
    "net = MLP(nInput, nOutput, nHidden, act_fn)\n",
    "\n",
    "# create the optimizer.\n",
    "optimizer = Adam(net.parameters(), lr=0.1)\n",
    "\n",
    "best_accuracy = 0\n",
    "for epoch_idx in range(NUM_EPOCHS):\n",
    "    loss = train(net, optimizer, train_dataloader, epoch_idx)\n",
    "    print('[Epoch %02d] Loss: %.4f' % (epoch_idx + 1, loss))"
   ]
  },
  {
   "cell_type": "markdown",
   "metadata": {},
   "source": [
    "Again plot your result. You should see that the decision boundary can clearly separate the point clouds.\n"
   ]
  },
  {
   "cell_type": "code",
   "execution_count": 53,
   "metadata": {},
   "outputs": [
    {
     "data": {
      "image/png": "[encoded data removed]",
      "text/plain": [
       "<Figure size 640x480 with 1 Axes>"
      ]
     },
     "metadata": {},
     "output_type": "display_data"
    },
    {
     "data": {
      "text/plain": [
       "<Figure size 640x480 with 0 Axes>"
      ]
     },
     "metadata": {},
     "output_type": "display_data"
    }
   ],
   "source": [
    "p = np.linspace(-0.5, 0.5, 500)\n",
    "x_plot, y_plot = np.meshgrid(p, p)\n",
    "X_plot = np.stack((x_plot, y_plot), axis=2).reshape(-1, 2)\n",
    "X_plot = torch.from_numpy(X_plot).float()\n",
    "output = net(X_plot)\n",
    "output = output.detach().numpy()\n",
    "output = output.reshape(x_plot.shape[0], x_plot.shape[1])\n",
    "\n",
    "plt.contour(x_plot, y_plot, output, [0.5],\n",
    "                  colors=('k',),\n",
    "                  linewidths=(3,))\n",
    "plot(X0, X1)"
   ]
  },
  {
   "cell_type": "markdown",
   "metadata": {},
   "source": [
    "When you are done, move forward to `image_classification.ipynb`."
   ]
  }
 ],
 "metadata": {
  "kernelspec": {
   "display_name": "Python 3.9.12 ('base')",
   "language": "python",
   "name": "python3"
  },
  "language_info": {
   "codemirror_mode": {
    "name": "ipython",
    "version": 3
   },
   "file_extension": ".py",
   "mimetype": "text/x-python",
   "name": "python",
   "nbconvert_exporter": "python",
   "pygments_lexer": "ipython3",
   "version": "3.9.18"
  },
  "vscode": {
   "interpreter": {
    "hash": "d268b61a0efacafa8645774cb6d0204c9f01d7563ef03f7672146d044e8f345c"
   }
  }
 },
 "nbformat": 4,
 "nbformat_minor": 4
}
